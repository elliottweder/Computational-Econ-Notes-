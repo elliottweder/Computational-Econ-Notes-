{
 "cells": [
  {
   "cell_type": "markdown",
   "metadata": {},
   "source": [
    "# Object-Oriented Programming"
   ]
  },
  {
   "cell_type": "markdown",
   "metadata": {},
   "source": [
    "* Procedural - series of steps, modulated functions\n",
    "* Functional - expressions or declarations instead of statements \n",
    "* OOP - classes and objects with attributes/ properties/ methods "
   ]
  },
  {
   "cell_type": "markdown",
   "metadata": {},
   "source": [
    "### Procedural \n",
    "\n",
    "* define function\n",
    "* then call it "
   ]
  },
  {
   "cell_type": "markdown",
   "metadata": {},
   "source": [
    "### Functional \n",
    "\n",
    "* variable holds a function (lambda as an argument)\n",
    "* variable returns the function \n",
    "\n",
    "* recursive calling of a function (possible here)\n",
    "    - function is an argument of the function "
   ]
  },
  {
   "cell_type": "markdown",
   "metadata": {},
   "source": [
    "### OOP\n",
    "\n",
    "* write a class, which contains:\n",
    "    - data is also stored inside the class \n",
    "    - initialisation \n",
    "    - call (function)\n",
    "* f = fibonacci(10) --- instance of a class "
   ]
  },
  {
   "cell_type": "markdown",
   "metadata": {},
   "source": [
    "#### Classes\n",
    "\n",
    "* class is a blueprint for creating objects \n",
    "* data, variables, etc. are attributes of the objects \n",
    "* then we have methods to use the data, variables, etc. \n"
   ]
  },
  {
   "cell_type": "markdown",
   "metadata": {},
   "source": [
    "* Principles of OOP\n",
    "    - Encapsulation and Abstraction: combining function, etc. within the object (helps to hide internal mechanisms, etc.)\n",
    "    - Inheritance: class heirarchies (inhereted methods can be replaced/ overloaded) - like a class tree\n",
    "    - Polymorphism: same functions/ interfaces for different types\n",
    "        * operation with same name that is defined slightly differently in different classes "
   ]
  },
  {
   "cell_type": "code",
   "execution_count": 1,
   "metadata": {},
   "outputs": [
    {
     "name": "stdout",
     "output_type": "stream",
     "text": [
      "Writing obj_explore.py\n"
     ]
    }
   ],
   "source": [
    "\n",
    "%%writefile 'obj_explore.py' # magic command: content of cell will be written in a file \n",
    "\n",
    "def obj_explore(obj,what='all'):\n",
    "    '''Lists attributes and methods of a class\n",
    "    Input arguments: obj = variable to explore,\n",
    "                     what = string with any combination of\n",
    "                            all, public, private, methods, properties\n",
    "    '''\n",
    "    import sys # this function will run rarely, so import here\n",
    "    trstr = lambda s: s[:30] if isinstance(s, str) else s  # truncates if string\n",
    "    spacer = lambda s: \" \"*max(15-len(s),2)  # returns spacer to pad strings\n",
    "    hr='-'*60  # horizontal line\n",
    "    print(obj)  # string representation of the input\n",
    "    print('%s\\nObject report on object = %r' % (hr,obj))\n",
    "    cl=type(obj)\n",
    "    print('Objec class     : %s' % cl)\n",
    "    print('Parent classes  : %r' % cl.__bases__)\n",
    "    print('Occupied memory : %d bytes' % sys.getsizeof(obj))\n",
    "    if what in 'all public properties':\n",
    "        print('PUBLIC PROPERTIES')\n",
    "        data = [(name,getattr(obj,name)) for name in dir(obj) if not callable(getattr(obj,name)) and name[0:2]!='__']\n",
    "        for item in data:\n",
    "            print('%s = %r %s' % (item[0]+spacer(item[0]),trstr(item[1]),type(item[1])))\n",
    "    if what in 'all private properties':\n",
    "        print('PRIVATE PROPERTIES')\n",
    "        data = [(name,getattr(obj,name)) for name in dir(obj) if not callable(getattr(obj,name)) and name[0:2]=='__']\n",
    "        for item in data:\n",
    "            print('%s = %r %s' % (item[0]+spacer(item[0]),trstr(item[1]),type(item[1])))\n",
    "    if what in 'all public methods':\n",
    "        print('PUBLIC METHODS')\n",
    "        data = [(name,getattr(obj,name)) for name in dir(obj) if callable(getattr(obj,name)) and name[0:2]!='__']\n",
    "        for item in data:\n",
    "            print('%s %s' % (item[0]+spacer(item[0]),type(item[1])))\n",
    "    if what in 'all private methods':\n",
    "        print('PRIVATE METHODS')\n",
    "        data = [(name,getattr(obj,name)) for name in dir(obj) if callable(getattr(obj,name)) and name[0:2]=='__']\n",
    "        for item in data:\n",
    "            print('%s %s' % (item[0]+spacer(item[0]),type(item[1])))"
   ]
  },
  {
   "cell_type": "code",
   "execution_count": 2,
   "metadata": {},
   "outputs": [
    {
     "name": "stdout",
     "output_type": "stream",
     "text": [
      "Help on function obj_explore in module obj_explore:\n",
      "\n",
      "obj_explore(obj, what='all')\n",
      "    Lists attributes and methods of a class\n",
      "    Input arguments: obj = variable to explore,\n",
      "                     what = string with any combination of\n",
      "                            all, public, private, methods, properties\n",
      "\n"
     ]
    }
   ],
   "source": [
    "# import all functions from obj_explore.py\n",
    "from obj_explore import *\n",
    "help(obj_explore)"
   ]
  },
  {
   "cell_type": "code",
   "execution_count": 5,
   "metadata": {},
   "outputs": [
    {
     "name": "stdout",
     "output_type": "stream",
     "text": [
      "False\n",
      "------------------------------------------------------------\n",
      "Object report on object = False\n",
      "Objec class     : <class 'bool'>\n",
      "Parent classes  : <class 'int'>\n",
      "Occupied memory : 24 bytes\n",
      "PUBLIC PROPERTIES\n",
      "denominator     = 1 <class 'int'>\n",
      "imag            = 0 <class 'int'>\n",
      "numerator       = 0 <class 'int'>\n",
      "real            = 0 <class 'int'>\n",
      "PUBLIC METHODS\n",
      "bit_length      <class 'builtin_function_or_method'>\n",
      "conjugate       <class 'builtin_function_or_method'>\n",
      "from_bytes      <class 'builtin_function_or_method'>\n",
      "to_bytes        <class 'builtin_function_or_method'>\n"
     ]
    }
   ],
   "source": [
    "x = False\n",
    "obj_explore(x,'public')"
   ]
  },
  {
   "cell_type": "markdown",
   "metadata": {},
   "source": [
    "* x can be all data types "
   ]
  },
  {
   "cell_type": "markdown",
   "metadata": {},
   "source": [
    "#### Polymorphism\n",
    "\n",
    "* similar operations implemented in different objects of different types \n",
    "\n",
    "* \"==\" True/ False, \"+\", \"-\" (repetition), etc. \n",
    "* concatenate two strings (add them) [other operations too]"
   ]
  },
  {
   "cell_type": "markdown",
   "metadata": {},
   "source": [
    "### Writing Classes \n",
    "\n",
    "* when do I need a class/ object?\n",
    "    - collection of model parameters (might want to have various models that differ slightly, etc.)\n",
    "    - repeatedly use complex things (agents, parts of model that interact)\n",
    "* syntax: https://docs.python.org/3/reference/datamodel.html#special-method-names"
   ]
  },
  {
   "cell_type": "code",
   "execution_count": 6,
   "metadata": {},
   "outputs": [],
   "source": [
    "class Firm:\n",
    "    \n",
    "    def __init__(self, α=0.5, A=2.0): # initializer\n",
    "        self.α = α # public properties/ attributes of the object\n",
    "        self.A = A\n",
    "        \n",
    "    def production(self, val): # public method\n",
    "        return self.A * val**self.α # use self. to refer to the public property"
   ]
  },
  {
   "cell_type": "code",
   "execution_count": 7,
   "metadata": {},
   "outputs": [
    {
     "name": "stdout",
     "output_type": "stream",
     "text": [
      "<__main__.Firm object at 0x000001C76A33A308>\n",
      "------------------------------------------------------------\n",
      "Object report on object = <__main__.Firm object at 0x000001C76A33A308>\n",
      "Objec class     : <class '__main__.Firm'>\n",
      "Parent classes  : <class 'object'>\n",
      "Occupied memory : 56 bytes\n",
      "PUBLIC PROPERTIES\n",
      "A               = 2.0 <class 'float'>\n",
      "α               = 0.5 <class 'float'>\n",
      "PRIVATE PROPERTIES\n",
      "__dict__        = {'α': 0.5, 'A': 2.0} <class 'dict'>\n",
      "__doc__         = None <class 'NoneType'>\n",
      "__module__      = '__main__' <class 'str'>\n",
      "__weakref__     = None <class 'NoneType'>\n",
      "PUBLIC METHODS\n",
      "production      <class 'method'>\n",
      "PRIVATE METHODS\n",
      "__class__       <class 'type'>\n",
      "__delattr__     <class 'method-wrapper'>\n",
      "__dir__         <class 'builtin_function_or_method'>\n",
      "__eq__          <class 'method-wrapper'>\n",
      "__format__      <class 'builtin_function_or_method'>\n",
      "__ge__          <class 'method-wrapper'>\n",
      "__getattribute__   <class 'method-wrapper'>\n",
      "__gt__          <class 'method-wrapper'>\n",
      "__hash__        <class 'method-wrapper'>\n",
      "__init__        <class 'method'>\n",
      "__init_subclass__   <class 'builtin_function_or_method'>\n",
      "__le__          <class 'method-wrapper'>\n",
      "__lt__          <class 'method-wrapper'>\n",
      "__ne__          <class 'method-wrapper'>\n",
      "__new__         <class 'builtin_function_or_method'>\n",
      "__reduce__      <class 'builtin_function_or_method'>\n",
      "__reduce_ex__   <class 'builtin_function_or_method'>\n",
      "__repr__        <class 'method-wrapper'>\n",
      "__setattr__     <class 'method-wrapper'>\n",
      "__sizeof__      <class 'builtin_function_or_method'>\n",
      "__str__         <class 'method-wrapper'>\n",
      "__subclasshook__   <class 'builtin_function_or_method'>\n",
      "6.324555320336759\n",
      "9.486832980505138\n",
      "12.649110640673518\n"
     ]
    }
   ],
   "source": [
    "firm1 = Firm() # default production parameters \n",
    "obj_explore(firm1)\n",
    "firm2 = Firm(A=3.0)\n",
    "firm3 = Firm(A=4.0) # Firm object represents different firms \n",
    "\n",
    "# firm1.α\n",
    "k = 10.0\n",
    "print(firm1.production(k))\n",
    "print(firm2.production(k))\n",
    "print(firm3.production(k))"
   ]
  },
  {
   "cell_type": "code",
   "execution_count": 8,
   "metadata": {},
   "outputs": [],
   "source": [
    "class Polynomial():\n",
    "    ''' Class to implement polynomial objects and binary operations on polynomialss\n",
    "    '''\n",
    "\n",
    "    def __init__(self, coeffs=[0,]):  # Initialization (list of coeffs, one element equal to zero by default)\n",
    "        # Public properties\n",
    "        self.degree = len(coeffs) - 1 # easy to see - polynomial of degree two has three coeffs \n",
    "        self.rep = self.str(coeffs) # representation of polynomial \n",
    "        self.coefficients = coeffs # stored as public attributes \n",
    "\n",
    "    def __repr__(self): \n",
    "        # Screen reprentation (when you print)\n",
    "        return self.rep\n",
    "\n",
    "    def str(self, coeffs):\n",
    "        # Create list of nonzero terms\n",
    "        terms = [str(coeffs[k]) + 'x^' + str(k) for k in range(0, self.degree + 1) if coeffs[k] != 0] # list comprehension\n",
    "        # If zero polynomial, return 0\n",
    "        if len(terms) == 0:\n",
    "            return str(0)\n",
    "        # Replace 0 and 1 powers\n",
    "        if coeffs[0]!=0:\n",
    "            terms[0] = str(coeffs[0])\n",
    "        if len(coeffs)>1 and coeffs[1]!=0:\n",
    "            terms[1] = str(coeffs[1]) + 'x'\n",
    "        # Finally, concatenate terms using +\n",
    "        return ' + '.join(terms)\n",
    "\n",
    "    def __add__(self, other):\n",
    "        '''Overloads the + operator.'''\n",
    "        d = max(self.degree, other.degree) + 1  # max length of polynomials' coeff lists\n",
    "        self_temp = self.coefficients + [0]*(d-self.degree-1)  # pad coeffs lists with 0s until equal length\n",
    "        other_temp = other.coefficients + [0]*(d-other.degree-1)\n",
    "        new_temp = [self_temp[i] + other_temp[i] for i in range(d)] # sum coeffs lists elementwise\n",
    "        return Polynomial(new_temp)  # return NEW polynomial\n",
    "\n",
    "    def __mul__(self, other):\n",
    "        '''Overloads the * operator.'''\n",
    "        n = self.degree + other.degree      # degree of the product\n",
    "        prod_coeffs = [0]*(n+1)             # initalize coefficient list of product\n",
    "        for i in range(0, self.degree + 1): # compute product\n",
    "            for j in range(0, other.degree + 1):\n",
    "                prod_coeffs[i+j] += self.coefficients[i] * other.coefficients[j]\n",
    "        return Polynomial(prod_coeffs)  # return NEW polynomial\n",
    "\n",
    "    def __call__(self, val): # evaluations polynomial at given value \n",
    "        '''Evaluates the polynomial at x = val.'''\n",
    "        res=self.coefficients[0]\n",
    "        x=val\n",
    "        for i in range(self.degree):  # using the loop avoid power calculation!\n",
    "            res += x*self.coefficients[i+1]\n",
    "            x*=val\n",
    "        return res"
   ]
  },
  {
   "cell_type": "code",
   "execution_count": 9,
   "metadata": {
    "scrolled": true
   },
   "outputs": [
    {
     "name": "stdout",
     "output_type": "stream",
     "text": [
      "p1(x) = 1 + 2x + 5x^2 + 4x^5\n",
      "p1(5) = 12636\n",
      "p2 = 10 + 3x^2 + 7x^3\n",
      "p2(2) = 78\n",
      "Sum     11 + 2x + 8x^2 + 7x^3 + 4x^5\n",
      "Product 10 + 20x + 53x^2 + 13x^3 + 29x^4 + 75x^5 + 12x^7 + 28x^8\n"
     ]
    }
   ],
   "source": [
    "p1=Polynomial([1,2,5,0,0,4])\n",
    "print('p1(x) = %r' % p1)\n",
    "print('p1(5) = %r' % p1(5))\n",
    "p2=Polynomial([10,0,3,7])\n",
    "print('p2 = %r' % p2)\n",
    "print('p2(2) = %r' % p2(2))\n",
    "\n",
    "p3=p1+p2\n",
    "print('Sum     %r' % p3)\n",
    "p3=p1*p2\n",
    "print('Product %r' % p3)"
   ]
  },
  {
   "cell_type": "markdown",
   "metadata": {},
   "source": [
    "# Bundle Goods Market "
   ]
  },
  {
   "cell_type": "markdown",
   "metadata": {},
   "source": [
    "* i.e. Happy Meal at Maccas (set of individual goods sold for a particular price)"
   ]
  },
  {
   "cell_type": "code",
   "execution_count": 17,
   "metadata": {},
   "outputs": [],
   "source": [
    "class bundle_good():\n",
    "    '''Class of bundled goods with well define arithmetics'''\n",
    "    \n",
    "    items = ('Opera A', 'Opera B', \\\n",
    "            'Ballet A', 'Ballet B', \\\n",
    "            'Symphonic orchestra concert', \\\n",
    "            'Rock opera', \\\n",
    "            'Operetta') # 7 different goods\n",
    "    \n",
    "    def __init__(self, quantities=[0,], price=0.0): #empty bundle of goods by default\n",
    "        n = len(bundle_good.items)\n",
    "        quantities = quantities[:n]\n",
    "        if len(quantities) < n:\n",
    "            quantities = quantities + [0] * (n - len(quantities))\n",
    "        self.quantities = [int(q) for q in quantities]\n",
    "        self.price = price \n",
    "        \n",
    "    def __repr__(self):\n",
    "        return \"Bundle object %r with price %1.2f\" % (self.quantities, self.price)\n",
    "        \n",
    "    def __add__(self, other): # addition for bundle goods\n",
    "        if isinstance(other, bundle_good): #\n",
    "            q = [x + y for x,y in zip(self.quantities, other.quantities)]\n",
    "            p = self.price + other.price\n",
    "            return bundle_good(q, p)\n",
    "        elif isinstance(other, (int, float)):\n",
    "            # adding a number changes the price\n",
    "            return bundle_good(self.quantities, self.price + other)\n",
    "        else:\n",
    "            raise TypeError('Can only add bundle to bundle, or number to bundle price')\n",
    "    \n",
    "    def __sub__(self, other):\n",
    "        if isinstance(other, bundle_good): #\n",
    "            q = [x - y for x,y in zip(self.quantities, other.quantities)]\n",
    "            p = self.price - other.price\n",
    "            return bundle_good(q, p)\n",
    "        elif isinstance(other, (int, float)):\n",
    "            # adding a number changes the price\n",
    "            return bundle_good(self.quantities, self.price - other)\n",
    "        else:\n",
    "            raise TypeError('Can only add bundle to bundle, or number to bundle price')\n",
    "    \n",
    "    def __mul__(self, num):\n",
    "        if isinstance(num, int): #\n",
    "            q = [x * num for x in self.quantities]\n",
    "            p = self.price * num\n",
    "            return bundle_good(q, p)\n",
    "        else:\n",
    "            raise TypeError('Can only add bundle to bundle, or number to bundle price')\n",
    "    \n",
    "    def __truediv__(self, num):\n",
    "        if isinstance(num, int): #\n",
    "            q = [x // num for x in self.quantities]\n",
    "            if not all([x%num == 0 for x in self.quantities]): # list of true or false; all checks all elements of list\n",
    "                raise ValueError('Can only divide such that the result has int quantities')\n",
    "            p = self.price / num\n",
    "            return bundle_good(q, p)\n",
    "        else:\n",
    "            raise TypeError('Can only add bundle to bundle, or number to bundle price')"
   ]
  },
  {
   "cell_type": "code",
   "execution_count": 12,
   "metadata": {},
   "outputs": [
    {
     "name": "stdout",
     "output_type": "stream",
     "text": [
      "<class '__main__.bundle_good'>\n"
     ]
    }
   ],
   "source": [
    "x = bundle_good([1,2,3,4,5,6,7], 11.43)\n",
    "print(bundle_good)"
   ]
  },
  {
   "cell_type": "code",
   "execution_count": 13,
   "metadata": {},
   "outputs": [
    {
     "name": "stdout",
     "output_type": "stream",
     "text": [
      "Bundle object [0, 1, 2, 3, 4, 5, 6] with price 100.20\n"
     ]
    }
   ],
   "source": [
    "x = bundle_good(range(25), 100.2)\n",
    "print(x)"
   ]
  },
  {
   "cell_type": "markdown",
   "metadata": {},
   "source": [
    "# Algorithms and Complexity"
   ]
  },
  {
   "cell_type": "markdown",
   "metadata": {},
   "source": [
    "* Evaluting a polynomial: quicker to avoid powers/ addition of the terms "
   ]
  },
  {
   "cell_type": "code",
   "execution_count": 4,
   "metadata": {},
   "outputs": [],
   "source": [
    "def calc_polynomial(qs=[0,], x=0.0, algorithm='fast'):\n",
    "    '''Evaluates the polynomial given by coefficients qs at given x.\n",
    "    First coefficient qs[0] is a constant, last coefficient is for highest power.\n",
    "    '''\n",
    "    if algorithm is not 'fast':\n",
    "        # slower algorithm\n",
    "        res=0.0 # result \n",
    "        for k in range(len(qs)):\n",
    "            xpw = x**k\n",
    "            res += qs[k] * xpw\n",
    "    else:\n",
    "        # faster algorithm\n",
    "        res,xpw = qs[0], x  # init result and power of x\n",
    "        for i in range(1,len(qs)):  # start with second coefficient\n",
    "            res += xpw * qs[i]\n",
    "            xpw *= x # accumulates the power as well (no power operator here)\n",
    "    return res"
   ]
  },
  {
   "cell_type": "markdown",
   "metadata": {},
   "source": [
    "#### Timing Function\n",
    "\n",
    "* timeit module\n",
    "    - have to run code several times to measure the run time \n",
    "* use to find the bottleneck in large code, etc."
   ]
  },
  {
   "cell_type": "code",
   "execution_count": 5,
   "metadata": {},
   "outputs": [
    {
     "name": "stdout",
     "output_type": "stream",
     "text": [
      "196 µs ± 10.4 µs per loop (mean ± std. dev. of 100 runs, 1000 loops each)\n"
     ]
    }
   ],
   "source": [
    "%%timeit -n1000 -r100 qs = [1,]*100  # powers up to 99; single @ is to the line; @@ is to the cell \n",
    "calc_polynomial(qs, 15, 'slow')"
   ]
  },
  {
   "cell_type": "code",
   "execution_count": 8,
   "metadata": {},
   "outputs": [
    {
     "name": "stdout",
     "output_type": "stream",
     "text": [
      "49.9 µs ± 2.51 µs per loop (mean ± std. dev. of 100 runs, 1000 loops each)\n"
     ]
    }
   ],
   "source": [
    "%%timeit -n1000 -r100 qs = [1,]*100  \n",
    "calc_polynomial(qs, 15, 'fast')"
   ]
  },
  {
   "cell_type": "markdown",
   "metadata": {},
   "source": [
    "* Algorithms are sequences of commands for a computer to run\n",
    "\n",
    "---\n",
    "\n",
    "1. How much time does it take to run?\n",
    "2. How much memory does it need?\n",
    "3. What other resources may be limiting (storage, communication, etc.)\n",
    "\n",
    "---\n",
    "\n",
    "* Smart algorithms are more important than a fast computer "
   ]
  },
  {
   "cell_type": "markdown",
   "metadata": {},
   "source": [
    "#### Parity of a number \n",
    "\n",
    "* check if integer is odd or even\n",
    "* algorithm: check the last bit in the binary representation of a number"
   ]
  },
  {
   "cell_type": "code",
   "execution_count": 9,
   "metadata": {},
   "outputs": [
    {
     "name": "stdout",
     "output_type": "stream",
     "text": [
      "Writing algorithm_examples.py\n"
     ]
    }
   ],
   "source": [
    "%%writefile 'algorithm_examples.py'\n",
    "\n",
    "# Example code to be discussed in the following videos\n",
    "\n",
    "import time\n",
    "\n",
    "def parity (n,verbose=False):\n",
    "    '''Returns 1 if passed integer number is odd\n",
    "    '''\n",
    "    if not isinstance(n, int): raise TypeError('Only integers in parity()')\n",
    "    if verbose: print('n = ', format(n, \"b\"))  # print binary form of the number\n",
    "    return n & 1  # bitwise and operation returns the value of last bit\n",
    "\n",
    "def maximum_from_list (vars):\n",
    "    '''Returns the maximum from a list of values\n",
    "    '''\n",
    "    m=float('-inf')  # init with the worst value\n",
    "    for v in vars:\n",
    "        if v > m: m = v\n",
    "    return m\n",
    "\n",
    "def binary_search(grid=[0,1],val=0,delay=0):\n",
    "    '''Returns the index of val on the sorted grid\n",
    "    Optional delay introduces a delay (in microsecond)\n",
    "    '''\n",
    "    i1,i2 = 0,len(grid)-1\n",
    "    if val==grid[i1]: return i1\n",
    "    if val==grid[i2]: return i2\n",
    "    j=(i1+i2)//2\n",
    "    while grid[j]!=val:\n",
    "        if val>grid[j]:\n",
    "            i1=j\n",
    "        else:\n",
    "            i2=j\n",
    "        j=(i1+i2)//2  # divide in half\n",
    "        time.sleep(delay*1e-6)  # micro-sec to seconds\n",
    "    return j\n",
    "\n",
    "def compositions(N,m):\n",
    "    '''Iterable on compositions of N with m parts\n",
    "    Returns the generator (to be used in for loops)\n",
    "    '''\n",
    "    cmp=[0,]*m\n",
    "    cmp[m-1]=N  # initial composition is all to the last\n",
    "    yield cmp\n",
    "    while cmp[0]!=N:\n",
    "        i=m-1\n",
    "        while cmp[i]==0: i-=1  # find lowest non-zero digit\n",
    "        cmp[i-1] = cmp[i-1]+1  # increment next digit\n",
    "        cmp[m-1] = cmp[i]-1    # the rest to the lowest\n",
    "        if i!=m-1: cmp[i] = 0  # maintain cost sum\n",
    "        yield cmp"
   ]
  },
  {
   "cell_type": "code",
   "execution_count": 10,
   "metadata": {},
   "outputs": [
    {
     "name": "stdout",
     "output_type": "stream",
     "text": [
      "k=10 (4 bits)\n",
      "609 ns ± 43.3 ns per loop (mean ± std. dev. of 500 runs, 5000 loops each)\n",
      "k=101 (7 bits)\n",
      "603 ns ± 47.9 ns per loop (mean ± std. dev. of 500 runs, 5000 loops each)\n",
      "k=1002 (10 bits)\n",
      "613 ns ± 69.9 ns per loop (mean ± std. dev. of 500 runs, 5000 loops each)\n",
      "k=10003 (14 bits)\n",
      "618 ns ± 60.3 ns per loop (mean ± std. dev. of 500 runs, 5000 loops each)\n",
      "k=100004 (17 bits)\n",
      "606 ns ± 45.7 ns per loop (mean ± std. dev. of 500 runs, 5000 loops each)\n"
     ]
    }
   ],
   "source": [
    "from algorithm_examples import *\n",
    "\n",
    "for k in [10**(i+1)+i for i in range(5)]: # k takes values from a list \n",
    "    print('k=%d (%d bits)' % (k,k.bit_length()))\n",
    "    tt = %timeit -n5000 -r500 -o parity(k)"
   ]
  },
  {
   "cell_type": "code",
   "execution_count": 13,
   "metadata": {},
   "outputs": [
    {
     "name": "stdout",
     "output_type": "stream",
     "text": [
      "625 ns ± 127 ns per loop (mean ± std. dev. of 100 runs, 5000 loops each)\n",
      "632 ns ± 170 ns per loop (mean ± std. dev. of 100 runs, 5000 loops each)\n",
      "592 ns ± 37 ns per loop (mean ± std. dev. of 100 runs, 5000 loops each)\n",
      "590 ns ± 74.4 ns per loop (mean ± std. dev. of 100 runs, 5000 loops each)\n",
      "600 ns ± 68.6 ns per loop (mean ± std. dev. of 100 runs, 5000 loops each)\n",
      "590 ns ± 44.6 ns per loop (mean ± std. dev. of 100 runs, 5000 loops each)\n",
      "578 ns ± 28.9 ns per loop (mean ± std. dev. of 100 runs, 5000 loops each)\n",
      "582 ns ± 35.2 ns per loop (mean ± std. dev. of 100 runs, 5000 loops each)\n",
      "582 ns ± 47.5 ns per loop (mean ± std. dev. of 100 runs, 5000 loops each)\n",
      "592 ns ± 85.7 ns per loop (mean ± std. dev. of 100 runs, 5000 loops each)\n",
      "579 ns ± 46.4 ns per loop (mean ± std. dev. of 100 runs, 5000 loops each)\n",
      "614 ns ± 75.3 ns per loop (mean ± std. dev. of 100 runs, 5000 loops each)\n",
      "615 ns ± 78.8 ns per loop (mean ± std. dev. of 100 runs, 5000 loops each)\n",
      "601 ns ± 82.4 ns per loop (mean ± std. dev. of 100 runs, 5000 loops each)\n",
      "579 ns ± 41 ns per loop (mean ± std. dev. of 100 runs, 5000 loops each)\n",
      "600 ns ± 105 ns per loop (mean ± std. dev. of 100 runs, 5000 loops each)\n",
      "578 ns ± 28.9 ns per loop (mean ± std. dev. of 100 runs, 5000 loops each)\n",
      "602 ns ± 69.3 ns per loop (mean ± std. dev. of 100 runs, 5000 loops each)\n",
      "589 ns ± 84.3 ns per loop (mean ± std. dev. of 100 runs, 5000 loops each)\n",
      "579 ns ± 48.1 ns per loop (mean ± std. dev. of 100 runs, 5000 loops each)\n",
      "596 ns ± 41.8 ns per loop (mean ± std. dev. of 100 runs, 5000 loops each)\n",
      "588 ns ± 45 ns per loop (mean ± std. dev. of 100 runs, 5000 loops each)\n",
      "583 ns ± 59.4 ns per loop (mean ± std. dev. of 100 runs, 5000 loops each)\n",
      "578 ns ± 35.6 ns per loop (mean ± std. dev. of 100 runs, 5000 loops each)\n",
      "575 ns ± 57.5 ns per loop (mean ± std. dev. of 100 runs, 5000 loops each)\n",
      "577 ns ± 33.5 ns per loop (mean ± std. dev. of 100 runs, 5000 loops each)\n",
      "581 ns ± 50.5 ns per loop (mean ± std. dev. of 100 runs, 5000 loops each)\n",
      "578 ns ± 31 ns per loop (mean ± std. dev. of 100 runs, 5000 loops each)\n",
      "575 ns ± 59.7 ns per loop (mean ± std. dev. of 100 runs, 5000 loops each)\n",
      "585 ns ± 41.9 ns per loop (mean ± std. dev. of 100 runs, 5000 loops each)\n",
      "587 ns ± 78.5 ns per loop (mean ± std. dev. of 100 runs, 5000 loops each)\n",
      "590 ns ± 39.6 ns per loop (mean ± std. dev. of 100 runs, 5000 loops each)\n",
      "588 ns ± 82.6 ns per loop (mean ± std. dev. of 100 runs, 5000 loops each)\n",
      "599 ns ± 66.2 ns per loop (mean ± std. dev. of 100 runs, 5000 loops each)\n",
      "598 ns ± 46.4 ns per loop (mean ± std. dev. of 100 runs, 5000 loops each)\n",
      "593 ns ± 35.1 ns per loop (mean ± std. dev. of 100 runs, 5000 loops each)\n",
      "576 ns ± 45.3 ns per loop (mean ± std. dev. of 100 runs, 5000 loops each)\n",
      "599 ns ± 57.9 ns per loop (mean ± std. dev. of 100 runs, 5000 loops each)\n",
      "587 ns ± 31.8 ns per loop (mean ± std. dev. of 100 runs, 5000 loops each)\n",
      "614 ns ± 83.9 ns per loop (mean ± std. dev. of 100 runs, 5000 loops each)\n",
      "599 ns ± 45.5 ns per loop (mean ± std. dev. of 100 runs, 5000 loops each)\n",
      "625 ns ± 80.5 ns per loop (mean ± std. dev. of 100 runs, 5000 loops each)\n",
      "617 ns ± 112 ns per loop (mean ± std. dev. of 100 runs, 5000 loops each)\n",
      "585 ns ± 34.5 ns per loop (mean ± std. dev. of 100 runs, 5000 loops each)\n",
      "621 ns ± 80 ns per loop (mean ± std. dev. of 100 runs, 5000 loops each)\n",
      "589 ns ± 49.1 ns per loop (mean ± std. dev. of 100 runs, 5000 loops each)\n",
      "584 ns ± 39.1 ns per loop (mean ± std. dev. of 100 runs, 5000 loops each)\n",
      "610 ns ± 76.8 ns per loop (mean ± std. dev. of 100 runs, 5000 loops each)\n",
      "590 ns ± 55.1 ns per loop (mean ± std. dev. of 100 runs, 5000 loops each)\n",
      "616 ns ± 121 ns per loop (mean ± std. dev. of 100 runs, 5000 loops each)\n"
     ]
    },
    {
     "data": {
      "image/png": "[encoded data removed]",
      "text/plain": [
       "<Figure size 864x576 with 1 Axes>"
      ]
     },
     "metadata": {
      "needs_background": "light"
     },
     "output_type": "display_data"
    }
   ],
   "source": [
    "import matplotlib.pyplot as plt\n",
    "%matplotlib inline\n",
    "plt.rcParams['figure.figsize'] = [12, 8]\n",
    "\n",
    "N = 50\n",
    "kk = lambda i: 10**(i+1)+i  # step formula\n",
    "n,x,std = [0]*N,[0]*N,[0]*N # initialize data lists (n is size of problem (# bits), x (mean))\n",
    "for i in range(N):\n",
    "    k = kk(i)  # input value for testing\n",
    "    n[i] = k.bit_length() # size of problem = bits in number\n",
    "    t = %timeit -n5000 -r100 -o parity(k)\n",
    "    x[i] = t.average\n",
    "    std[i] = t.stdev\n",
    "\n",
    "plt.errorbar(n,x,std)\n",
    "plt.xlabel('number of bits in the input argument')\n",
    "plt.ylabel('run time, sec')\n",
    "plt.show()"
   ]
  },
  {
   "cell_type": "markdown",
   "metadata": {},
   "source": [
    "* with the parity function, no matter what number you are checking, the amount of time is similar "
   ]
  },
  {
   "cell_type": "markdown",
   "metadata": {},
   "source": [
    "#### Find the max/ min of a list \n",
    "\n",
    "* unsorted list of values \n",
    "* algorithm: run through the list once "
   ]
  },
  {
   "cell_type": "code",
   "execution_count": 15,
   "metadata": {},
   "outputs": [
    {
     "name": "stdout",
     "output_type": "stream",
     "text": [
      "[11.35365463 53.40906654 64.22219259 31.1741278  45.675031   82.9385853\n",
      " 61.55210824 67.91281676 22.9290137  98.01311358]\n",
      "max=98.013114\n"
     ]
    }
   ],
   "source": [
    "import numpy as np\n",
    "N = 10\n",
    "x = np.random.uniform(low=0.0, high=100.0, size=N)\n",
    "print(x)\n",
    "print(\"max=%f\" % maximum_from_list(x))"
   ]
  },
  {
   "cell_type": "code",
   "execution_count": 16,
   "metadata": {},
   "outputs": [
    {
     "name": "stdout",
     "output_type": "stream",
     "text": [
      "3.1 µs ± 395 ns per loop (mean ± std. dev. of 100 runs, 1000 loops each)\n",
      "4.63 µs ± 1.18 µs per loop (mean ± std. dev. of 100 runs, 1000 loops each)\n",
      "4.86 µs ± 289 ns per loop (mean ± std. dev. of 100 runs, 1000 loops each)\n",
      "5.53 µs ± 422 ns per loop (mean ± std. dev. of 100 runs, 1000 loops each)\n",
      "6.37 µs ± 447 ns per loop (mean ± std. dev. of 100 runs, 1000 loops each)\n",
      "7.08 µs ± 232 ns per loop (mean ± std. dev. of 100 runs, 1000 loops each)\n",
      "7.45 µs ± 351 ns per loop (mean ± std. dev. of 100 runs, 1000 loops each)\n",
      "8 µs ± 381 ns per loop (mean ± std. dev. of 100 runs, 1000 loops each)\n",
      "8.75 µs ± 490 ns per loop (mean ± std. dev. of 100 runs, 1000 loops each)\n",
      "9.34 µs ± 375 ns per loop (mean ± std. dev. of 100 runs, 1000 loops each)\n",
      "10.2 µs ± 860 ns per loop (mean ± std. dev. of 100 runs, 1000 loops each)\n",
      "10.8 µs ± 474 ns per loop (mean ± std. dev. of 100 runs, 1000 loops each)\n",
      "11.2 µs ± 595 ns per loop (mean ± std. dev. of 100 runs, 1000 loops each)\n",
      "11.7 µs ± 595 ns per loop (mean ± std. dev. of 100 runs, 1000 loops each)\n",
      "12.4 µs ± 808 ns per loop (mean ± std. dev. of 100 runs, 1000 loops each)\n",
      "13.3 µs ± 801 ns per loop (mean ± std. dev. of 100 runs, 1000 loops each)\n",
      "13.6 µs ± 619 ns per loop (mean ± std. dev. of 100 runs, 1000 loops each)\n",
      "14.4 µs ± 742 ns per loop (mean ± std. dev. of 100 runs, 1000 loops each)\n",
      "14.7 µs ± 524 ns per loop (mean ± std. dev. of 100 runs, 1000 loops each)\n",
      "15.5 µs ± 460 ns per loop (mean ± std. dev. of 100 runs, 1000 loops each)\n",
      "16.1 µs ± 562 ns per loop (mean ± std. dev. of 100 runs, 1000 loops each)\n",
      "16.4 µs ± 448 ns per loop (mean ± std. dev. of 100 runs, 1000 loops each)\n",
      "16.9 µs ± 540 ns per loop (mean ± std. dev. of 100 runs, 1000 loops each)\n",
      "17.4 µs ± 496 ns per loop (mean ± std. dev. of 100 runs, 1000 loops each)\n",
      "18.5 µs ± 707 ns per loop (mean ± std. dev. of 100 runs, 1000 loops each)\n",
      "19 µs ± 564 ns per loop (mean ± std. dev. of 100 runs, 1000 loops each)\n",
      "19.7 µs ± 973 ns per loop (mean ± std. dev. of 100 runs, 1000 loops each)\n",
      "19.9 µs ± 647 ns per loop (mean ± std. dev. of 100 runs, 1000 loops each)\n",
      "20.4 µs ± 643 ns per loop (mean ± std. dev. of 100 runs, 1000 loops each)\n",
      "21.3 µs ± 665 ns per loop (mean ± std. dev. of 100 runs, 1000 loops each)\n",
      "22.1 µs ± 754 ns per loop (mean ± std. dev. of 100 runs, 1000 loops each)\n",
      "22.9 µs ± 679 ns per loop (mean ± std. dev. of 100 runs, 1000 loops each)\n",
      "23 µs ± 640 ns per loop (mean ± std. dev. of 100 runs, 1000 loops each)\n",
      "24.4 µs ± 459 ns per loop (mean ± std. dev. of 100 runs, 1000 loops each)\n",
      "24.4 µs ± 801 ns per loop (mean ± std. dev. of 100 runs, 1000 loops each)\n",
      "26 µs ± 1.43 µs per loop (mean ± std. dev. of 100 runs, 1000 loops each)\n",
      "25.2 µs ± 887 ns per loop (mean ± std. dev. of 100 runs, 1000 loops each)\n",
      "26.8 µs ± 2.78 µs per loop (mean ± std. dev. of 100 runs, 1000 loops each)\n",
      "26.9 µs ± 1.04 µs per loop (mean ± std. dev. of 100 runs, 1000 loops each)\n",
      "27.3 µs ± 899 ns per loop (mean ± std. dev. of 100 runs, 1000 loops each)\n",
      "27.7 µs ± 1.1 µs per loop (mean ± std. dev. of 100 runs, 1000 loops each)\n",
      "29.4 µs ± 1.26 µs per loop (mean ± std. dev. of 100 runs, 1000 loops each)\n",
      "29.6 µs ± 897 ns per loop (mean ± std. dev. of 100 runs, 1000 loops each)\n",
      "31 µs ± 6.19 µs per loop (mean ± std. dev. of 100 runs, 1000 loops each)\n",
      "31.6 µs ± 726 ns per loop (mean ± std. dev. of 100 runs, 1000 loops each)\n",
      "30.4 µs ± 514 ns per loop (mean ± std. dev. of 100 runs, 1000 loops each)\n",
      "32.1 µs ± 2.2 µs per loop (mean ± std. dev. of 100 runs, 1000 loops each)\n",
      "32.1 µs ± 1.33 µs per loop (mean ± std. dev. of 100 runs, 1000 loops each)\n",
      "33 µs ± 1.7 µs per loop (mean ± std. dev. of 100 runs, 1000 loops each)\n",
      "32.7 µs ± 860 ns per loop (mean ± std. dev. of 100 runs, 1000 loops each)\n"
     ]
    },
    {
     "data": {
      "image/png": "[encoded data removed]",
      "text/plain": [
       "<Figure size 864x576 with 1 Axes>"
      ]
     },
     "metadata": {
      "needs_background": "light"
     },
     "output_type": "display_data"
    }
   ],
   "source": [
    "N = 50\n",
    "kk = lambda i: 2*i  # step formula\n",
    "n,x,std = [0]*N,[0]*N,[0]*N # initialize data lists\n",
    "for i in range(N):\n",
    "    n[i] = kk(i) # size of the array\n",
    "    vv = np.random.uniform(low=0.0, high=100.0, size=n[i]) # each iteration creates new list with new length \n",
    "    t = %timeit -n1000 -r100 -o maximum_from_list(vv)\n",
    "    x[i] = t.average\n",
    "    std[i] = t.stdev\n",
    "\n",
    "plt.errorbar(n,x,std)\n",
    "plt.xlabel('number of elements in the list')\n",
    "plt.ylabel('run time, sec')\n",
    "plt.show()"
   ]
  },
  {
   "cell_type": "markdown",
   "metadata": {},
   "source": [
    "* pretty clear linear relationship\n",
    "* a big problem requires more time to solve... (this algorithm)"
   ]
  },
  {
   "cell_type": "markdown",
   "metadata": {},
   "source": [
    "#### Binary Search \n",
    "\n",
    "* think of number between 1 and 100\n",
    "* try to find number by asking questions\n",
    "* optimal sequece of questions? \n",
    "    - go halfway --- reduces the amount by the most \n",
    "    - equal parts \n",
    "* how many questions are required to find the number?"
   ]
  },
  {
   "cell_type": "code",
   "execution_count": 18,
   "metadata": {},
   "outputs": [
    {
     "name": "stdout",
     "output_type": "stream",
     "text": [
      "Index of x[4]=25 in array([ 9, 13, 15, 20, 25, 30, 32, 49, 74, 77]) is 4\n"
     ]
    }
   ],
   "source": [
    "N = 10\n",
    "# random sorted sequence of integers up to 100\n",
    "x = np.random.choice(100,size=N,replace=False) # 10 chosen integers; replace = False --- no numbers can repeat themselves \n",
    "x = np.sort(x) # binary search works on sorted data \n",
    "# random choice of one number/index\n",
    "k0 = np.random.choice(N,size=1) \n",
    "\n",
    "k1 = binary_search(grid=x,val=x[k0])\n",
    "print(\"Index of x[%d]=%d in %r is %d\"%(k0,x[k0],x,k1))"
   ]
  },
  {
   "cell_type": "markdown",
   "metadata": {},
   "source": [
    "* looks like a log scale --- get a linear function if log it \n",
    "* problem of size n: can split the game in half (guessing game), which reduces the complexity of the game [divide and conquer algorithms]\n",
    "* continues on: the work is measured by the questions you have to ask \n",
    "    - $\\frac{n}{2^{x}} = 1$ - finish algorithm\n",
    "    - $n = 2^{x}$\n",
    "    - $\\frac{log(n)}{log(2)} = x$\n",
    "    - complexity is proportional to $log(n)$"
   ]
  },
  {
   "cell_type": "markdown",
   "metadata": {},
   "source": [
    "##### Big-O Notation \n",
    "\n",
    "* n is size of input \n",
    "* if $f(n) = \\Omega(g(n)) \\Rightarrow \\exists M > 0$ and $N $ such that $ |f(n)| > M|g(n)| \\vee n > N$\n",
    "* f(n) and g(n) grow on the same order \n",
    "* g(n) bounds f(n) --- i.e. f(n) does not grow faster than g(n)\n",
    "    - easiest case to solve, etc. \n",
    "    - $\\Omega(x)$ --- x is integer we have constant time (quadratic, etc. too)"
   ]
  },
  {
   "cell_type": "markdown",
   "metadata": {},
   "source": [
    "#### Allocation of discrete good\n",
    "\n",
    "Problem:\n",
    "* maximise welfare function subject to consumption equal to endowment (but we have a discrete good)\n",
    "* let M = A/$\\Lambda$  (M is amount of units of this good)\n",
    "* let $p_{i} \\in {0, 1, ..., M}$ such that $\\sum_{i=1}^{n} p_{i} = M$\n",
    "* then maximise the function $W(\\Lambda p_{1}, ..., \\Lambda p_{n})$ instead of $W(x_{1}, ..., x_{n})$"
   ]
  },
  {
   "cell_type": "code",
   "execution_count": 21,
   "metadata": {},
   "outputs": [
    {
     "name": "stdout",
     "output_type": "stream",
     "text": [
      "Total number of compositions is 4\n",
      "  0: [0, 3]\n",
      "  1: [1, 2]\n",
      "  2: [2, 1]\n",
      "  3: [3, 0]\n"
     ]
    }
   ],
   "source": [
    "import scipy.special\n",
    "n, M = 2, 3 # 4 agents, 8 units of good\n",
    "total = scipy.special.comb(M+n-1,n-1) # M+n-1 choose n-1 (split 8 units among 4 people)\n",
    "print(\"Total number of compositions is %d\"%total)\n",
    "\n",
    "for i,k in enumerate(compositions(M,n)):\n",
    "    print('%3d'%i,end=\": \")\n",
    "    print(k)"
   ]
  },
  {
   "cell_type": "code",
   "execution_count": 22,
   "metadata": {},
   "outputs": [
    {
     "name": "stdout",
     "output_type": "stream",
     "text": [
      "32.6 µs ± 2.27 µs per loop (mean ± std. dev. of 10 runs, 2 loops each)\n",
      "226 µs ± 32.1 µs per loop (mean ± std. dev. of 10 runs, 2 loops each)\n",
      "1.7 ms ± 109 µs per loop (mean ± std. dev. of 10 runs, 2 loops each)\n",
      "10.1 ms ± 628 µs per loop (mean ± std. dev. of 10 runs, 2 loops each)\n",
      "49.9 ms ± 544 µs per loop (mean ± std. dev. of 10 runs, 2 loops each)\n",
      "218 ms ± 2.63 ms per loop (mean ± std. dev. of 10 runs, 2 loops each)\n",
      "865 ms ± 21 ms per loop (mean ± std. dev. of 10 runs, 2 loops each)\n",
      "3.01 s ± 36.2 ms per loop (mean ± std. dev. of 10 runs, 2 loops each)\n",
      "9.81 s ± 83.5 ms per loop (mean ± std. dev. of 10 runs, 2 loops each)\n",
      "29.9 s ± 101 ms per loop (mean ± std. dev. of 10 runs, 2 loops each)\n"
     ]
    },
    {
     "data": {
      "image/png": "[encoded data removed]",
      "text/plain": [
       "<Figure size 864x576 with 1 Axes>"
      ]
     },
     "metadata": {
      "needs_background": "light"
     },
     "output_type": "display_data"
    },
    {
     "data": {
      "image/png": "[encoded data removed]",
      "text/plain": [
       "<Figure size 864x576 with 1 Axes>"
      ]
     },
     "metadata": {
      "needs_background": "light"
     },
     "output_type": "display_data"
    }
   ],
   "source": [
    "N = 10  # number of points\n",
    "kk = lambda i: 2+i  # step formula\n",
    "M = 20  # quantity of indivisible good in units of lambda\n",
    "\n",
    "n,x,std = [0]*N,[0]*N,[0]*N   # initialize lists\n",
    "for i in range(N):\n",
    "    n[i] = kk(i)  # number of list elements\n",
    "    t = %timeit -n2 -r10 -o for c in compositions(M,n[i]): pass\n",
    "    x[i] = t.average\n",
    "    std[i] = t.stdev\n",
    "\n",
    "plt.errorbar(n,x,std)\n",
    "plt.xlabel('Number of elements in compositions')\n",
    "plt.ylabel('run time, sec')\n",
    "plt.show()\n",
    "\n",
    "plt.errorbar(n,x,std)\n",
    "plt.yscale('log')\n",
    "plt.xlabel('Number of elements in compositions')\n",
    "plt.ylabel('log(run time)')\n",
    "plt.show()"
   ]
  },
  {
   "cell_type": "markdown",
   "metadata": {},
   "source": [
    "Exponential algorithms.... \n",
    "\n",
    "* curse of dimensionality \n",
    "\n",
    "---\n",
    "\n",
    "1. Design better solution algorithm\n",
    "2. Analyse special cases of particular problems \n",
    "3. Speed up the code (compilation)\n",
    "4. Parallelize the computations \n",
    "5. Bound the problem; keep it realistic\n",
    "6. Wait for innovations in computing technology "
   ]
  },
  {
   "cell_type": "markdown",
   "metadata": {},
   "source": [
    "#### Classes of computational complexity\n",
    "\n",
    "* **P** can be solved in polynomial time\n",
    "* **NP**: polynomial time, exponential solution algorithm, and so it requires magic guess (non-deterministic polynomial time)\n",
    "* **NP-hard**: at least as complex as any **NP** problem \n",
    "* **NP-complete**: both **NP** and **NP-hard**\n"
   ]
  },
  {
   "cell_type": "code",
   "execution_count": null,
   "metadata": {},
   "outputs": [],
   "source": []
  }
 ],
 "metadata": {
  "kernelspec": {
   "display_name": "Python 3",
   "language": "python",
   "name": "python3"
  },
  "language_info": {
   "codemirror_mode": {
    "name": "ipython",
    "version": 3
   },
   "file_extension": ".py",
   "mimetype": "text/x-python",
   "name": "python",
   "nbconvert_exporter": "python",
   "pygments_lexer": "ipython3",
   "version": "3.7.6"
  }
 },
 "nbformat": 4,
 "nbformat_minor": 4
}
