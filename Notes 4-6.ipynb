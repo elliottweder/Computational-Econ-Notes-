{
 "cells": [
  {
   "cell_type": "markdown",
   "metadata": {},
   "source": [
    "# Python Essentials"
   ]
  },
  {
   "cell_type": "markdown",
   "metadata": {},
   "source": [
    "## Data Types"
   ]
  },
  {
   "cell_type": "markdown",
   "metadata": {},
   "source": [
    "* Coding standard:\n",
    "    - PEP8\n",
    "    - Indentation, line length (max 79)\n",
    "    - White space around binary operations\n",
    "    - Use comments (give enough info to understand in the future)\n",
    "    - Naming conventions\n",
    "    \n",
    "* Names and comments \n",
    "    - names of variables: contain numbers, letters and underscores (except reserved words, such as lambda, def, elif, etc.)\n",
    "    - comments made with \"#\"\n",
    "    \n",
    "* Basic variable types\n",
    "    - Boolean: record logical **True** or **False**\n",
    "        - logical operations + arithmetic\n",
    "        - **True** if multiple conditions are true\n",
    "        - to check if at least one condition is satisfied \n",
    "            - initialise z = False, and then check line by line (using **or**)\n",
    "        - to check if all conditions are, then use **and**\n",
    "    - Integer\n",
    "        - x = 1\n",
    "        - type(x)\n",
    "        - how large of an integer can we store?\n",
    "            - write large number in binary\n",
    "            - \"sys.getsizeof(x)\"\n",
    "            - Python updates memory size dynamically when needed (so it is constrained by the memory on the computer)"
   ]
  },
  {
   "cell_type": "code",
   "execution_count": 2,
   "metadata": {},
   "outputs": [
    {
     "name": "stdout",
     "output_type": "stream",
     "text": [
      "155 + 7 = 162 (<class 'int'>)\n"
     ]
    }
   ],
   "source": [
    "a = 155\n",
    "b = 7\n",
    "c=a+b\n",
    "print(\"%d + %d = %r (%s)\" % (a,b,c,type(c)))"
   ]
  },
  {
   "cell_type": "markdown",
   "metadata": {},
   "source": [
    "* \"%\" creates a placeholder for elements following % ($\\cdot$)"
   ]
  },
  {
   "cell_type": "markdown",
   "metadata": {},
   "source": [
    "* Automatic casting \n",
    "    - $a^{b}$ --- large number but it is still an integer\n",
    "    - a / b = float\n",
    "    - c (answer) is automatically adapted from integer to float (as needed)\n",
    "    \n",
    "* Integer division and remainder \n",
    "    - use of \"c = a//b\"\n",
    "    - like division but keeps the result integer (keeps remainder)\n",
    "    - \"c = a%b\" gives the remainder \n",
    "    \n",
    "* Booleans and integers \n",
    "    - Booleans can be an integer\n",
    "    - Take the same amount of space in memory\n",
    "    - Boolean is a subclass of integers (can only take two integers)\n",
    "    - If do arithmetic with Booleans, then **True** is x = 1"
   ]
  },
  {
   "cell_type": "code",
   "execution_count": 6,
   "metadata": {},
   "outputs": [
    {
     "data": {
      "text/plain": [
       "-4"
      ]
     },
     "execution_count": 6,
     "metadata": {},
     "output_type": "execute_result"
    }
   ],
   "source": [
    "z = (1 < 5) - 5\n",
    "z"
   ]
  },
  {
   "cell_type": "code",
   "execution_count": 8,
   "metadata": {},
   "outputs": [
    {
     "data": {
      "text/plain": [
       "True"
      ]
     },
     "execution_count": 8,
     "metadata": {},
     "output_type": "execute_result"
    }
   ],
   "source": [
    "z = (1 < 5)\n",
    "z"
   ]
  },
  {
   "cell_type": "code",
   "execution_count": 9,
   "metadata": {},
   "outputs": [
    {
     "data": {
      "text/plain": [
       "15"
      ]
     },
     "execution_count": 9,
     "metadata": {},
     "output_type": "execute_result"
    }
   ],
   "source": [
    "x = 15\n",
    "z = x * (x > 10) + x**2 * (x < 10) #conditions in () are 1 or 0 --- like doing an \"if\" expression \n",
    "z"
   ]
  },
  {
   "cell_type": "code",
   "execution_count": 10,
   "metadata": {},
   "outputs": [
    {
     "data": {
      "text/plain": [
       "0"
      ]
     },
     "execution_count": 10,
     "metadata": {},
     "output_type": "execute_result"
    }
   ],
   "source": [
    "# What if x = 10? Then, neither condition is true \n",
    "\n",
    "x = 10\n",
    "z = x * (x > 10) + x**2 * (x < 10) #conditions in () are 1 or 0 --- like doing an \"if\" expression \n",
    "z"
   ]
  },
  {
   "cell_type": "markdown",
   "metadata": {},
   "source": [
    "* Precedence of binary operators\n",
    "    - power\n",
    "    - multiple/ divide\n",
    "    - plus/ minus\n",
    "    - comparisons operators\n",
    "    - equality operators \n",
    "    - logical operators "
   ]
  },
  {
   "cell_type": "code",
   "execution_count": 11,
   "metadata": {},
   "outputs": [
    {
     "data": {
      "text/plain": [
       "False"
      ]
     },
     "execution_count": 11,
     "metadata": {},
     "output_type": "execute_result"
    }
   ],
   "source": [
    "y = 5 - 4 > True #minus is first \n",
    "y"
   ]
  },
  {
   "cell_type": "code",
   "execution_count": 12,
   "metadata": {},
   "outputs": [
    {
     "data": {
      "text/plain": [
       "True"
      ]
     },
     "execution_count": 12,
     "metadata": {},
     "output_type": "execute_result"
    }
   ],
   "source": [
    "y = 5 / 2**4 < 10 or 15\n",
    "y"
   ]
  },
  {
   "cell_type": "code",
   "execution_count": 14,
   "metadata": {},
   "outputs": [
    {
     "data": {
      "text/plain": [
       "False"
      ]
     },
     "execution_count": 14,
     "metadata": {},
     "output_type": "execute_result"
    }
   ],
   "source": [
    "y = 3 > 2 == True\n",
    "y\n",
    "\n",
    "# True = True, no?\n",
    "# Chained comparison - 2 is being compared to 3 and True at the same time, and so it is not equal to True --> False \n",
    "# Good practice is to use brackets and avoid ambiguity "
   ]
  },
  {
   "cell_type": "markdown",
   "metadata": {},
   "source": [
    "* Floating point numbers\n",
    "    - representation for real numbers \n",
    "    - given with . decimal place \n",
    "    - floats have a min and max limits \n",
    "        - sys.float_info\n",
    "        - epsilon is the maximum error \n",
    "    - takes less memory size "
   ]
  },
  {
   "cell_type": "code",
   "execution_count": 19,
   "metadata": {},
   "outputs": [
    {
     "name": "stdout",
     "output_type": "stream",
     "text": [
      "x takes 28 bytes in memory\n"
     ]
    },
    {
     "data": {
      "text/plain": [
       "sys.float_info(max=1.7976931348623157e+308, max_exp=1024, max_10_exp=308, min=2.2250738585072014e-308, min_exp=-1021, min_10_exp=-307, dig=15, mant_dig=53, epsilon=2.220446049250313e-16, radix=2, rounds=1)"
      ]
     },
     "execution_count": 19,
     "metadata": {},
     "output_type": "execute_result"
    }
   ],
   "source": [
    "import sys\n",
    "x = 10\n",
    "print(\"x takes %d bytes in memory\" % sys.getsizeof(x))\n",
    "\n",
    "sys.float_info"
   ]
  },
  {
   "cell_type": "markdown",
   "metadata": {},
   "source": [
    "* Special values: Inf, -Inf, NaN\n",
    "    - if a number is larger than the max limit --- x = inf "
   ]
  },
  {
   "cell_type": "code",
   "execution_count": 20,
   "metadata": {},
   "outputs": [
    {
     "ename": "ValueError",
     "evalue": "math domain error",
     "output_type": "error",
     "traceback": [
      "\u001b[1;31m---------------------------------------------------------------------------\u001b[0m",
      "\u001b[1;31mValueError\u001b[0m                                Traceback (most recent call last)",
      "\u001b[1;32m<ipython-input-20-c8d57a7874de>\u001b[0m in \u001b[0;36m<module>\u001b[1;34m\u001b[0m\n\u001b[0;32m      1\u001b[0m \u001b[1;32mimport\u001b[0m \u001b[0mmath\u001b[0m \u001b[1;32mas\u001b[0m \u001b[0mm\u001b[0m\u001b[1;33m\u001b[0m\u001b[1;33m\u001b[0m\u001b[0m\n\u001b[1;32m----> 2\u001b[1;33m \u001b[0mx\u001b[0m \u001b[1;33m=\u001b[0m \u001b[0mm\u001b[0m\u001b[1;33m.\u001b[0m\u001b[0mlog\u001b[0m\u001b[1;33m(\u001b[0m\u001b[1;36m0\u001b[0m\u001b[1;33m)\u001b[0m\u001b[1;33m\u001b[0m\u001b[1;33m\u001b[0m\u001b[0m\n\u001b[0m\u001b[0;32m      3\u001b[0m \u001b[0mprint\u001b[0m\u001b[1;33m(\u001b[0m\u001b[0mx\u001b[0m\u001b[1;33m)\u001b[0m\u001b[1;33m\u001b[0m\u001b[1;33m\u001b[0m\u001b[0m\n",
      "\u001b[1;31mValueError\u001b[0m: math domain error"
     ]
    }
   ],
   "source": [
    "import math as m\n",
    "x = m.log(0)\n",
    "print(x)\n",
    "\n",
    "# get this error from the mathematical library "
   ]
  },
  {
   "cell_type": "code",
   "execution_count": 22,
   "metadata": {},
   "outputs": [
    {
     "name": "stdout",
     "output_type": "stream",
     "text": [
      "-inf\n"
     ]
    },
    {
     "name": "stderr",
     "output_type": "stream",
     "text": [
      "C:\\Users\\ellsw\\anaconda3\\lib\\site-packages\\ipykernel_launcher.py:2: RuntimeWarning: divide by zero encountered in log\n",
      "  \n"
     ]
    }
   ],
   "source": [
    "import numpy as np\n",
    "x = np.log(0)\n",
    "print(x)"
   ]
  },
  {
   "cell_type": "markdown",
   "metadata": {},
   "source": [
    "* Complex numbers \n",
    "\n",
    "    "
   ]
  },
  {
   "cell_type": "code",
   "execution_count": 24,
   "metadata": {},
   "outputs": [
    {
     "name": "stdout",
     "output_type": "stream",
     "text": [
      "(5+1j)\n"
     ]
    }
   ],
   "source": [
    "x = 1j + 5 \n",
    "print(x)"
   ]
  },
  {
   "cell_type": "markdown",
   "metadata": {},
   "source": [
    "Euler formula: $e^{i\\pi} + 1 = 0$"
   ]
  },
  {
   "cell_type": "code",
   "execution_count": 26,
   "metadata": {},
   "outputs": [
    {
     "name": "stdout",
     "output_type": "stream",
     "text": [
      "1.2246467991473532e-16j\n",
      "1.2246467991473532e-16\n"
     ]
    }
   ],
   "source": [
    "from cmath import exp, pi\n",
    "x = 1j\n",
    "x = exp(x * pi) + 1\n",
    "print(x)\n",
    "print(abs(x))\n",
    "\n",
    "#basically zero (boils down to machine precision)"
   ]
  },
  {
   "cell_type": "markdown",
   "metadata": {},
   "source": [
    "* String\n",
    "    - given by s = 'Hello world' or (\"\")\n",
    "    - has a big memory footprint \n",
    "    - slicing strings:   "
   ]
  },
  {
   "cell_type": "code",
   "execution_count": 29,
   "metadata": {},
   "outputs": [
    {
     "name": "stdout",
     "output_type": "stream",
     "text": [
      "Hello\n",
      "Hello\n",
      "world\n",
      "Hlowrd\n"
     ]
    }
   ],
   "source": [
    "s = 'Hello world'\n",
    "print(s[0:5]) #from first and not including the 5th \n",
    "print(s[:5])\n",
    "print(s[-5:])\n",
    "print(s[::2]) #from beginning to end with step 2"
   ]
  },
  {
   "cell_type": "code",
   "execution_count": 31,
   "metadata": {},
   "outputs": [
    {
     "name": "stdout",
     "output_type": "stream",
     "text": [
      "ecc \n"
     ]
    }
   ],
   "source": [
    "# Slicing string puzzle\n",
    "s='jde4jecc doij naajo rdmp hin0icbdrs1cgdhttuif 7gjxm'\n",
    "\n",
    "print(s[5:9])"
   ]
  },
  {
   "cell_type": "code",
   "execution_count": 32,
   "metadata": {},
   "outputs": [
    {
     "name": "stdout",
     "output_type": "stream",
     "text": [
      "Memory(\"a\", 1 symbols) = 50 bytes\n",
      "Memory(\"aa\", 2 symbols) = 51 bytes\n",
      "Memory(\"aaa\", 3 symbols) = 52 bytes\n",
      "Memory(\"aaaa\", 4 symbols) = 53 bytes\n",
      "Memory(\"aaaaa\", 5 symbols) = 54 bytes\n",
      "Memory(\"aaaaaa\", 6 symbols) = 55 bytes\n",
      "Memory(\"aaaaaaa\", 7 symbols) = 56 bytes\n",
      "Memory(\"aaaaaaaa\", 8 symbols) = 57 bytes\n",
      "Memory(\"aaaaaaaaa\", 9 symbols) = 58 bytes\n",
      "Memory(\"aaaaaaaaaa\", 10 symbols) = 59 bytes\n"
     ]
    }
   ],
   "source": [
    "# Strings in the memory \n",
    "s = ''\n",
    "for i in range(10):\n",
    "    s = s + 'a'\n",
    "    print(\"Memory(\\\"%s\\\", %d symbols) = %d bytes\" % (s, len(s), sys.getsizeof(s)))"
   ]
  },
  {
   "cell_type": "markdown",
   "metadata": {},
   "source": [
    "* the size of memory grows by one bytes per character\n",
    "* there is an overhang - the empty string contains 49 bytes already "
   ]
  },
  {
   "cell_type": "code",
   "execution_count": 34,
   "metadata": {},
   "outputs": [],
   "source": [
    "# For integers \n",
    "y = 2\n",
    "for i in range(10):\n",
    "    y**=2 # y = y**2 and then storing the result"
   ]
  },
  {
   "cell_type": "markdown",
   "metadata": {},
   "source": [
    "* the number starts to become very large, using more and more memory \n",
    "* when doing the same with floats, it just stops because the numbers are too large "
   ]
  },
  {
   "cell_type": "markdown",
   "metadata": {},
   "source": [
    "* Assignment Operator\n",
    "    - b **= c (power and store in b)\n",
    "    - b *= c\n",
    "    - b -= c\n",
    "    - etc. "
   ]
  },
  {
   "cell_type": "markdown",
   "metadata": {},
   "source": [
    "* Id(.) functions \n",
    "    - returns unique int for a variable (a reference)\n",
    "    - like a memory address"
   ]
  },
  {
   "cell_type": "code",
   "execution_count": 38,
   "metadata": {},
   "outputs": [
    {
     "name": "stdout",
     "output_type": "stream",
     "text": [
      "140711056876208\n",
      "140711056876208\n",
      "140711056876528\n"
     ]
    }
   ],
   "source": [
    "x = 10\n",
    "print(id(x))\n",
    "\n",
    "y = x\n",
    "print(id(y)) #so it does not take a new piece of memory \n",
    "\n",
    "y += x\n",
    "print(id(y)) #has a different address now "
   ]
  },
  {
   "cell_type": "markdown",
   "metadata": {},
   "source": [
    "* Composite variable types\n",
    "    - list: collection of any variables (any types); can be edited/ sliced\n",
    "    - tuple: an immutable list (\n",
    "    - dictionary: pairs of keys and values\n",
    "    - set: unqiue elements of a collection \n",
    "    - range: sequence of integers "
   ]
  },
  {
   "cell_type": "code",
   "execution_count": 39,
   "metadata": {},
   "outputs": [],
   "source": [
    "# Lists and Tuples\n",
    "x = [True, 5, 0.2, 'string']\n",
    "y = (True, 5, 0.2, 'string') #Tuple\n",
    "#Tuple takes up slightly less memory "
   ]
  },
  {
   "cell_type": "code",
   "execution_count": 40,
   "metadata": {},
   "outputs": [
    {
     "ename": "TypeError",
     "evalue": "'tuple' object does not support item assignment",
     "output_type": "error",
     "traceback": [
      "\u001b[1;31m---------------------------------------------------------------------------\u001b[0m",
      "\u001b[1;31mTypeError\u001b[0m                                 Traceback (most recent call last)",
      "\u001b[1;32m<ipython-input-40-6291a024b126>\u001b[0m in \u001b[0;36m<module>\u001b[1;34m\u001b[0m\n\u001b[0;32m      1\u001b[0m \u001b[0mx\u001b[0m\u001b[1;33m[\u001b[0m\u001b[1;36m0\u001b[0m\u001b[1;33m]\u001b[0m \u001b[1;33m=\u001b[0m \u001b[1;36m567\u001b[0m\u001b[1;33m\u001b[0m\u001b[1;33m\u001b[0m\u001b[0m\n\u001b[1;32m----> 2\u001b[1;33m \u001b[0my\u001b[0m\u001b[1;33m[\u001b[0m\u001b[1;36m0\u001b[0m\u001b[1;33m]\u001b[0m \u001b[1;33m=\u001b[0m \u001b[1;36m567\u001b[0m\u001b[1;33m\u001b[0m\u001b[1;33m\u001b[0m\u001b[0m\n\u001b[0m",
      "\u001b[1;31mTypeError\u001b[0m: 'tuple' object does not support item assignment"
     ]
    }
   ],
   "source": [
    "x[0] = 567\n",
    "y[0] = 567"
   ]
  },
  {
   "cell_type": "code",
   "execution_count": 42,
   "metadata": {},
   "outputs": [
    {
     "name": "stdout",
     "output_type": "stream",
     "text": [
      "567\n",
      "[5, 0.2]\n",
      "4\n",
      "[567, 5, 0.2, 587, 587]\n",
      "[567, 5, 0.2, 587]\n"
     ]
    }
   ],
   "source": [
    "print(x[0])\n",
    "print(x[1:-1])\n",
    "print(len(x))\n",
    "x.append(587)\n",
    "print(x)\n",
    "x.pop(3)\n",
    "print(x)"
   ]
  },
  {
   "cell_type": "code",
   "execution_count": null,
   "metadata": {},
   "outputs": [],
   "source": []
  }
 ],
 "metadata": {
  "kernelspec": {
   "display_name": "Python 3",
   "language": "python",
   "name": "python3"
  },
  "language_info": {
   "codemirror_mode": {
    "name": "ipython",
    "version": 3
   },
   "file_extension": ".py",
   "mimetype": "text/x-python",
   "name": "python",
   "nbconvert_exporter": "python",
   "pygments_lexer": "ipython3",
   "version": "3.7.6"
  }
 },
 "nbformat": 4,
 "nbformat_minor": 4
}
