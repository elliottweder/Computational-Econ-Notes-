{
 "cells": [
  {
   "cell_type": "markdown",
   "metadata": {},
   "source": [
    "# Python Essentials"
   ]
  },
  {
   "cell_type": "markdown",
   "metadata": {},
   "source": [
    "## Data Types"
   ]
  },
  {
   "cell_type": "markdown",
   "metadata": {},
   "source": [
    "* Coding standard:\n",
    "    - PEP8\n",
    "    - Indentation, line length (max 79)\n",
    "    - White space around binary operations\n",
    "    - Use comments (give enough info to understand in the future)\n",
    "    - Naming conventions\n",
    "    \n",
    "* Names and comments \n",
    "    - names of variables: contain numbers, letters and underscores (except reserved words, such as lambda, def, elif, etc.)\n",
    "    - comments made with \"#\"\n",
    "    \n",
    "* Basic variable types\n",
    "    - Boolean: record logical **True** or **False**\n",
    "        - logical operations + arithmetic\n",
    "        - **True** if multiple conditions are true\n",
    "        - to check if at least one condition is satisfied \n",
    "            - initialise z = False, and then check line by line (using **or**)\n",
    "        - to check if all conditions are, then use **and**\n",
    "    - Integer\n",
    "        - x = 1\n",
    "        - type(x)\n",
    "        - how large of an integer can we store?\n",
    "            - write large number in binary\n",
    "            - \"sys.getsizeof(x)\"\n",
    "            - Python updates memory size dynamically when needed (so it is constrained by the memory on the computer)"
   ]
  },
  {
   "cell_type": "code",
   "execution_count": 2,
   "metadata": {},
   "outputs": [
    {
     "name": "stdout",
     "output_type": "stream",
     "text": [
      "155 + 7 = 162 (<class 'int'>)\n"
     ]
    }
   ],
   "source": [
    "a = 155\n",
    "b = 7\n",
    "c=a+b\n",
    "print(\"%d + %d = %r (%s)\" % (a,b,c,type(c)))"
   ]
  },
  {
   "cell_type": "markdown",
   "metadata": {},
   "source": [
    "* \"%\" creates a placeholder for elements following % ($\\cdot$)"
   ]
  },
  {
   "cell_type": "markdown",
   "metadata": {},
   "source": [
    "* Automatic casting \n",
    "    - $a^{b}$ --- large number but it is still an integer\n",
    "    - a / b = float\n",
    "    - c (answer) is automatically adapted from integer to float (as needed)\n",
    "    \n",
    "* Integer division and remainder \n",
    "    - use of \"c = a//b\"\n",
    "    - like division but keeps the result integer (keeps remainder)\n",
    "    - \"c = a%b\" gives the remainder \n",
    "    \n",
    "* Booleans and integers \n",
    "    - Booleans can be an integer\n",
    "    - Take the same amount of space in memory\n",
    "    - Boolean is a subclass of integers (can only take two integers)\n",
    "    - If do arithmetic with Booleans, then **True** is x = 1"
   ]
  },
  {
   "cell_type": "code",
   "execution_count": 6,
   "metadata": {},
   "outputs": [
    {
     "data": {
      "text/plain": [
       "-4"
      ]
     },
     "execution_count": 6,
     "metadata": {},
     "output_type": "execute_result"
    }
   ],
   "source": [
    "z = (1 < 5) - 5\n",
    "z"
   ]
  },
  {
   "cell_type": "code",
   "execution_count": 8,
   "metadata": {},
   "outputs": [
    {
     "data": {
      "text/plain": [
       "True"
      ]
     },
     "execution_count": 8,
     "metadata": {},
     "output_type": "execute_result"
    }
   ],
   "source": [
    "z = (1 < 5)\n",
    "z"
   ]
  },
  {
   "cell_type": "code",
   "execution_count": 9,
   "metadata": {},
   "outputs": [
    {
     "data": {
      "text/plain": [
       "15"
      ]
     },
     "execution_count": 9,
     "metadata": {},
     "output_type": "execute_result"
    }
   ],
   "source": [
    "x = 15\n",
    "z = x * (x > 10) + x**2 * (x < 10) #conditions in () are 1 or 0 --- like doing an \"if\" expression \n",
    "z"
   ]
  },
  {
   "cell_type": "code",
   "execution_count": 10,
   "metadata": {},
   "outputs": [
    {
     "data": {
      "text/plain": [
       "0"
      ]
     },
     "execution_count": 10,
     "metadata": {},
     "output_type": "execute_result"
    }
   ],
   "source": [
    "# What if x = 10? Then, neither condition is true \n",
    "\n",
    "x = 10\n",
    "z = x * (x > 10) + x**2 * (x < 10) #conditions in () are 1 or 0 --- like doing an \"if\" expression \n",
    "z"
   ]
  },
  {
   "cell_type": "markdown",
   "metadata": {},
   "source": [
    "* Precedence of binary operators\n",
    "    - power\n",
    "    - multiple/ divide\n",
    "    - plus/ minus\n",
    "    - comparisons operators\n",
    "    - equality operators \n",
    "    - logical operators "
   ]
  },
  {
   "cell_type": "code",
   "execution_count": 11,
   "metadata": {},
   "outputs": [
    {
     "data": {
      "text/plain": [
       "False"
      ]
     },
     "execution_count": 11,
     "metadata": {},
     "output_type": "execute_result"
    }
   ],
   "source": [
    "y = 5 - 4 > True #minus is first \n",
    "y"
   ]
  },
  {
   "cell_type": "code",
   "execution_count": 12,
   "metadata": {},
   "outputs": [
    {
     "data": {
      "text/plain": [
       "True"
      ]
     },
     "execution_count": 12,
     "metadata": {},
     "output_type": "execute_result"
    }
   ],
   "source": [
    "y = 5 / 2**4 < 10 or 15\n",
    "y"
   ]
  },
  {
   "cell_type": "code",
   "execution_count": 14,
   "metadata": {},
   "outputs": [
    {
     "data": {
      "text/plain": [
       "False"
      ]
     },
     "execution_count": 14,
     "metadata": {},
     "output_type": "execute_result"
    }
   ],
   "source": [
    "y = 3 > 2 == True\n",
    "y\n",
    "\n",
    "# True = True, no?\n",
    "# Chained comparison - 2 is being compared to 3 and True at the same time, and so it is not equal to True --> False \n",
    "# Good practice is to use brackets and avoid ambiguity "
   ]
  },
  {
   "cell_type": "markdown",
   "metadata": {},
   "source": [
    "* Floating point numbers\n",
    "    - representation for real numbers \n",
    "    - given with . decimal place \n",
    "    - floats have a min and max limits \n",
    "        - sys.float_info\n",
    "        - epsilon is the maximum error \n",
    "    - takes less memory size "
   ]
  },
  {
   "cell_type": "code",
   "execution_count": 19,
   "metadata": {},
   "outputs": [
    {
     "name": "stdout",
     "output_type": "stream",
     "text": [
      "x takes 28 bytes in memory\n"
     ]
    },
    {
     "data": {
      "text/plain": [
       "sys.float_info(max=1.7976931348623157e+308, max_exp=1024, max_10_exp=308, min=2.2250738585072014e-308, min_exp=-1021, min_10_exp=-307, dig=15, mant_dig=53, epsilon=2.220446049250313e-16, radix=2, rounds=1)"
      ]
     },
     "execution_count": 19,
     "metadata": {},
     "output_type": "execute_result"
    }
   ],
   "source": [
    "import sys\n",
    "x = 10\n",
    "print(\"x takes %d bytes in memory\" % sys.getsizeof(x))\n",
    "\n",
    "sys.float_info"
   ]
  },
  {
   "cell_type": "markdown",
   "metadata": {},
   "source": [
    "* Special values: Inf, -Inf, NaN\n",
    "    - if a number is larger than the max limit --- x = inf "
   ]
  },
  {
   "cell_type": "code",
   "execution_count": 20,
   "metadata": {},
   "outputs": [
    {
     "ename": "ValueError",
     "evalue": "math domain error",
     "output_type": "error",
     "traceback": [
      "\u001b[1;31m---------------------------------------------------------------------------\u001b[0m",
      "\u001b[1;31mValueError\u001b[0m                                Traceback (most recent call last)",
      "\u001b[1;32m<ipython-input-20-c8d57a7874de>\u001b[0m in \u001b[0;36m<module>\u001b[1;34m\u001b[0m\n\u001b[0;32m      1\u001b[0m \u001b[1;32mimport\u001b[0m \u001b[0mmath\u001b[0m \u001b[1;32mas\u001b[0m \u001b[0mm\u001b[0m\u001b[1;33m\u001b[0m\u001b[1;33m\u001b[0m\u001b[0m\n\u001b[1;32m----> 2\u001b[1;33m \u001b[0mx\u001b[0m \u001b[1;33m=\u001b[0m \u001b[0mm\u001b[0m\u001b[1;33m.\u001b[0m\u001b[0mlog\u001b[0m\u001b[1;33m(\u001b[0m\u001b[1;36m0\u001b[0m\u001b[1;33m)\u001b[0m\u001b[1;33m\u001b[0m\u001b[1;33m\u001b[0m\u001b[0m\n\u001b[0m\u001b[0;32m      3\u001b[0m \u001b[0mprint\u001b[0m\u001b[1;33m(\u001b[0m\u001b[0mx\u001b[0m\u001b[1;33m)\u001b[0m\u001b[1;33m\u001b[0m\u001b[1;33m\u001b[0m\u001b[0m\n",
      "\u001b[1;31mValueError\u001b[0m: math domain error"
     ]
    }
   ],
   "source": [
    "import math as m\n",
    "x = m.log(0)\n",
    "print(x)\n",
    "\n",
    "# get this error from the mathematical library "
   ]
  },
  {
   "cell_type": "code",
   "execution_count": 22,
   "metadata": {},
   "outputs": [
    {
     "name": "stdout",
     "output_type": "stream",
     "text": [
      "-inf\n"
     ]
    },
    {
     "name": "stderr",
     "output_type": "stream",
     "text": [
      "C:\\Users\\ellsw\\anaconda3\\lib\\site-packages\\ipykernel_launcher.py:2: RuntimeWarning: divide by zero encountered in log\n",
      "  \n"
     ]
    }
   ],
   "source": [
    "import numpy as np\n",
    "x = np.log(0)\n",
    "print(x)"
   ]
  },
  {
   "cell_type": "markdown",
   "metadata": {},
   "source": [
    "* Complex numbers \n",
    "\n",
    "    "
   ]
  },
  {
   "cell_type": "code",
   "execution_count": 24,
   "metadata": {},
   "outputs": [
    {
     "name": "stdout",
     "output_type": "stream",
     "text": [
      "(5+1j)\n"
     ]
    }
   ],
   "source": [
    "x = 1j + 5 \n",
    "print(x)"
   ]
  },
  {
   "cell_type": "markdown",
   "metadata": {},
   "source": [
    "Euler formula: $e^{i\\pi} + 1 = 0$"
   ]
  },
  {
   "cell_type": "code",
   "execution_count": 26,
   "metadata": {},
   "outputs": [
    {
     "name": "stdout",
     "output_type": "stream",
     "text": [
      "1.2246467991473532e-16j\n",
      "1.2246467991473532e-16\n"
     ]
    }
   ],
   "source": [
    "from cmath import exp, pi\n",
    "x = 1j\n",
    "x = exp(x * pi) + 1\n",
    "print(x)\n",
    "print(abs(x))\n",
    "\n",
    "#basically zero (boils down to machine precision)"
   ]
  },
  {
   "cell_type": "markdown",
   "metadata": {},
   "source": [
    "* String\n",
    "    - given by s = 'Hello world' or (\"\")\n",
    "    - has a big memory footprint \n",
    "    - slicing strings:   "
   ]
  },
  {
   "cell_type": "code",
   "execution_count": 29,
   "metadata": {},
   "outputs": [
    {
     "name": "stdout",
     "output_type": "stream",
     "text": [
      "Hello\n",
      "Hello\n",
      "world\n",
      "Hlowrd\n"
     ]
    }
   ],
   "source": [
    "s = 'Hello world'\n",
    "print(s[0:5]) #from first and not including the 5th \n",
    "print(s[:5])\n",
    "print(s[-5:])\n",
    "print(s[::2]) #from beginning to end with step 2"
   ]
  },
  {
   "cell_type": "code",
   "execution_count": 31,
   "metadata": {},
   "outputs": [
    {
     "name": "stdout",
     "output_type": "stream",
     "text": [
      "ecc \n"
     ]
    }
   ],
   "source": [
    "# Slicing string puzzle\n",
    "s='jde4jecc doij naajo rdmp hin0icbdrs1cgdhttuif 7gjxm'\n",
    "\n",
    "print(s[5:9])"
   ]
  },
  {
   "cell_type": "code",
   "execution_count": 32,
   "metadata": {},
   "outputs": [
    {
     "name": "stdout",
     "output_type": "stream",
     "text": [
      "Memory(\"a\", 1 symbols) = 50 bytes\n",
      "Memory(\"aa\", 2 symbols) = 51 bytes\n",
      "Memory(\"aaa\", 3 symbols) = 52 bytes\n",
      "Memory(\"aaaa\", 4 symbols) = 53 bytes\n",
      "Memory(\"aaaaa\", 5 symbols) = 54 bytes\n",
      "Memory(\"aaaaaa\", 6 symbols) = 55 bytes\n",
      "Memory(\"aaaaaaa\", 7 symbols) = 56 bytes\n",
      "Memory(\"aaaaaaaa\", 8 symbols) = 57 bytes\n",
      "Memory(\"aaaaaaaaa\", 9 symbols) = 58 bytes\n",
      "Memory(\"aaaaaaaaaa\", 10 symbols) = 59 bytes\n"
     ]
    }
   ],
   "source": [
    "# Strings in the memory \n",
    "s = ''\n",
    "for i in range(10):\n",
    "    s = s + 'a'\n",
    "    print(\"Memory(\\\"%s\\\", %d symbols) = %d bytes\" % (s, len(s), sys.getsizeof(s)))"
   ]
  },
  {
   "cell_type": "markdown",
   "metadata": {},
   "source": [
    "* the size of memory grows by one bytes per character\n",
    "* there is an overhang - the empty string contains 49 bytes already "
   ]
  },
  {
   "cell_type": "code",
   "execution_count": 34,
   "metadata": {},
   "outputs": [],
   "source": [
    "# For integers \n",
    "y = 2\n",
    "for i in range(10):\n",
    "    y**=2 # y = y**2 and then storing the result"
   ]
  },
  {
   "cell_type": "markdown",
   "metadata": {},
   "source": [
    "* the number starts to become very large, using more and more memory \n",
    "* when doing the same with floats, it just stops because the numbers are too large "
   ]
  },
  {
   "cell_type": "markdown",
   "metadata": {},
   "source": [
    "* Assignment Operator\n",
    "    - b **= c (power and store in b)\n",
    "    - b *= c\n",
    "    - b -= c\n",
    "    - etc. "
   ]
  },
  {
   "cell_type": "markdown",
   "metadata": {},
   "source": [
    "* Id(.) functions \n",
    "    - returns unique int for a variable (a reference)\n",
    "    - like a memory address"
   ]
  },
  {
   "cell_type": "code",
   "execution_count": 38,
   "metadata": {},
   "outputs": [
    {
     "name": "stdout",
     "output_type": "stream",
     "text": [
      "140711056876208\n",
      "140711056876208\n",
      "140711056876528\n"
     ]
    }
   ],
   "source": [
    "x = 10\n",
    "print(id(x))\n",
    "\n",
    "y = x\n",
    "print(id(y)) #so it does not take a new piece of memory \n",
    "\n",
    "y += x\n",
    "print(id(y)) #has a different address now "
   ]
  },
  {
   "cell_type": "markdown",
   "metadata": {},
   "source": [
    "* Composite variable types\n",
    "    - list: collection of any variables (any types); can be edited/ sliced\n",
    "    - tuple: an immutable list (\n",
    "    - dictionary: pairs of keys and values\n",
    "    - set: unqiue elements of a collection \n",
    "    - range: sequence of integers "
   ]
  },
  {
   "cell_type": "code",
   "execution_count": 39,
   "metadata": {},
   "outputs": [],
   "source": [
    "# Lists and Tuples\n",
    "x = [True, 5, 0.2, 'string']\n",
    "y = (True, 5, 0.2, 'string') #Tuple\n",
    "#Tuple takes up slightly less memory "
   ]
  },
  {
   "cell_type": "code",
   "execution_count": 40,
   "metadata": {},
   "outputs": [
    {
     "ename": "TypeError",
     "evalue": "'tuple' object does not support item assignment",
     "output_type": "error",
     "traceback": [
      "\u001b[1;31m---------------------------------------------------------------------------\u001b[0m",
      "\u001b[1;31mTypeError\u001b[0m                                 Traceback (most recent call last)",
      "\u001b[1;32m<ipython-input-40-6291a024b126>\u001b[0m in \u001b[0;36m<module>\u001b[1;34m\u001b[0m\n\u001b[0;32m      1\u001b[0m \u001b[0mx\u001b[0m\u001b[1;33m[\u001b[0m\u001b[1;36m0\u001b[0m\u001b[1;33m]\u001b[0m \u001b[1;33m=\u001b[0m \u001b[1;36m567\u001b[0m\u001b[1;33m\u001b[0m\u001b[1;33m\u001b[0m\u001b[0m\n\u001b[1;32m----> 2\u001b[1;33m \u001b[0my\u001b[0m\u001b[1;33m[\u001b[0m\u001b[1;36m0\u001b[0m\u001b[1;33m]\u001b[0m \u001b[1;33m=\u001b[0m \u001b[1;36m567\u001b[0m\u001b[1;33m\u001b[0m\u001b[1;33m\u001b[0m\u001b[0m\n\u001b[0m",
      "\u001b[1;31mTypeError\u001b[0m: 'tuple' object does not support item assignment"
     ]
    }
   ],
   "source": [
    "x[0] = 567\n",
    "y[0] = 567"
   ]
  },
  {
   "cell_type": "code",
   "execution_count": 42,
   "metadata": {},
   "outputs": [
    {
     "name": "stdout",
     "output_type": "stream",
     "text": [
      "567\n",
      "[5, 0.2]\n",
      "4\n",
      "[567, 5, 0.2, 587, 587]\n",
      "[567, 5, 0.2, 587]\n"
     ]
    }
   ],
   "source": [
    "print(x[0])\n",
    "print(x[1:-1])\n",
    "print(len(x))\n",
    "x.append(587)\n",
    "print(x)\n",
    "x.pop(3)\n",
    "print(x)"
   ]
  },
  {
   "cell_type": "markdown",
   "metadata": {},
   "source": [
    "## Control Flow and Functions"
   ]
  },
  {
   "cell_type": "markdown",
   "metadata": {},
   "source": [
    "### Control flow"
   ]
  },
  {
   "cell_type": "markdown",
   "metadata": {},
   "source": [
    "* Conditional expressions and loops\n",
    "    - branching: if, else, elif (remember indentation)"
   ]
  },
  {
   "cell_type": "code",
   "execution_count": 1,
   "metadata": {},
   "outputs": [
    {
     "name": "stdout",
     "output_type": "stream",
     "text": [
      "Condition 1\n"
     ]
    }
   ],
   "source": [
    "x = 2\n",
    "y = 2.0\n",
    "z = [1, 2.1, 3.0, 0.0]\n",
    "\n",
    "if y==2 and z[-1] >= 0.0: # y is a float, why did comparison go through? Because 2.0 is represented the same way in binary\n",
    "    #as 2 (without loss of information)\n",
    "    print(\"Condition 1\")\n",
    "elif y<2:\n",
    "    print(\"Condition 2\")\n",
    "else:\n",
    "    print(\"Condition 3\")"
   ]
  },
  {
   "cell_type": "code",
   "execution_count": 3,
   "metadata": {},
   "outputs": [
    {
     "name": "stdout",
     "output_type": "stream",
     "text": [
      "Condition 2\n"
     ]
    }
   ],
   "source": [
    "x = True\n",
    "y = False\n",
    "\n",
    "if x and y:\n",
    "    print(\"Condition 1\")\n",
    "elif x and not y:\n",
    "    print(\"Condition 2\")\n",
    "elif not x and y:\n",
    "    print(\"Condition 3\")\n",
    "elif not x and not y:\n",
    "    print(\"Condition 4\")\n",
    "else:\n",
    "    print(\"Condition 5\")\n",
    "    \n",
    "# first four conditions cover all possibilities; then else is somewhat redundant "
   ]
  },
  {
   "cell_type": "markdown",
   "metadata": {},
   "source": [
    "* Pass statement \n",
    "    - does nothing, but makes sure to preserve indent \n",
    "  "
   ]
  },
  {
   "cell_type": "code",
   "execution_count": 4,
   "metadata": {},
   "outputs": [
    {
     "name": "stdout",
     "output_type": "stream",
     "text": [
      "done\n"
     ]
    }
   ],
   "source": [
    "if True:\n",
    "    pass\n",
    "else:\n",
    "    print(\"check\")\n",
    "print(\"done\")"
   ]
  },
  {
   "cell_type": "markdown",
   "metadata": {},
   "source": [
    "* Ternary conditional operator"
   ]
  },
  {
   "cell_type": "code",
   "execution_count": 9,
   "metadata": {},
   "outputs": [
    {
     "data": {
      "text/plain": [
       "1"
      ]
     },
     "execution_count": 9,
     "metadata": {},
     "output_type": "execute_result"
    }
   ],
   "source": [
    "a, b, condition = 1, 3, True # to initialise \n",
    "\n",
    "a if condition else b      # expression, not a statement; therefore we can assign it to a variable c\n",
    "\n",
    "c = a if condition else b  # therefore this is possible\n",
    "c\n",
    "\n",
    "#useful for making code more compact "
   ]
  },
  {
   "cell_type": "markdown",
   "metadata": {},
   "source": [
    "**Loops**"
   ]
  },
  {
   "cell_type": "code",
   "execution_count": 10,
   "metadata": {},
   "outputs": [
    {
     "name": "stdout",
     "output_type": "stream",
     "text": [
      "A iteration 0\n",
      "A iteration 1\n",
      "A iteration 2\n",
      "A iteration 3\n",
      "A iteration 4\n",
      "A iteration 5\n",
      "\n",
      "B iteration 0\n",
      "B iteration 1\n",
      "B iteration 2\n",
      "B iteration 3\n",
      "B iteration 4\n"
     ]
    }
   ],
   "source": [
    "for i in [0,1,2,3,4,5]: # variable i takes values from a given list (sequentially)\n",
    "    print(\"A iteration %d\" % i)\n",
    "print() # leaves an empty string \n",
    "\n",
    "for i in range(5): # operator \"range\" (not including 5 --- indexing begins from 0 and does not include upper bound)\n",
    "    print(\"B iteration %d\" % i)"
   ]
  },
  {
   "cell_type": "markdown",
   "metadata": {},
   "source": [
    "**List comprehensions**"
   ]
  },
  {
   "cell_type": "code",
   "execution_count": 11,
   "metadata": {},
   "outputs": [
    {
     "data": {
      "text/plain": [
       "['item 0', 'item 3', 'item 6', 'item 9', 'item 12']"
      ]
     },
     "execution_count": 11,
     "metadata": {},
     "output_type": "execute_result"
    }
   ],
   "source": [
    "x = [] # initialised to be an empty list (square bracket)\n",
    "for i in range(15):\n",
    "    if i%3==0: # if i is divisible by 3 (remainder equals zero)\n",
    "        x.append(\"item %d\"%i) # append item i to the list \n",
    "x"
   ]
  },
  {
   "cell_type": "code",
   "execution_count": 12,
   "metadata": {},
   "outputs": [
    {
     "data": {
      "text/plain": [
       "['item 0', 'item 3', 'item 6', 'item 9', 'item 12']"
      ]
     },
     "execution_count": 12,
     "metadata": {},
     "output_type": "execute_result"
    }
   ],
   "source": [
    "x = [\"item %d\"%i for i in range(15) if i%3==0] # this is list comprehension\n",
    "x"
   ]
  },
  {
   "cell_type": "markdown",
   "metadata": {},
   "source": [
    "**Multiple indexes in list comprehensions**"
   ]
  },
  {
   "cell_type": "code",
   "execution_count": 13,
   "metadata": {},
   "outputs": [
    {
     "name": "stdout",
     "output_type": "stream",
     "text": [
      "i=0 j=a\n",
      "i=1 j=b\n",
      "i=2 j=c\n",
      "i=3 j=d\n"
     ]
    }
   ],
   "source": [
    "for i,j in zip(range(4),[\"a\",\"b\",\"c\",\"d\"]): # zip is the index and the elements (combine the list element by element)\n",
    "    print(\"i=%d j=%s\"%(i,j))"
   ]
  },
  {
   "cell_type": "code",
   "execution_count": 14,
   "metadata": {},
   "outputs": [
    {
     "data": {
      "text/plain": [
       "[1, 2, 4, 8, 16, 1, 3, 9, 27, 81, 1, 5, 25, 125, 625]"
      ]
     },
     "execution_count": 14,
     "metadata": {},
     "output_type": "execute_result"
    }
   ],
   "source": [
    "p= [x**y for x in  (2,3,5) for y in range(5)] #three power series\n",
    "p\n",
    "\n",
    "# unlike zip, it combines all values in first list with all values in second list "
   ]
  },
  {
   "cell_type": "code",
   "execution_count": 15,
   "metadata": {},
   "outputs": [
    {
     "data": {
      "text/plain": [
       "[1, 1, 1, 2, 3, 4, 5, 8, 9, 16, 25, 27, 81, 125, 625]"
      ]
     },
     "execution_count": 15,
     "metadata": {},
     "output_type": "execute_result"
    }
   ],
   "source": [
    "p.sort()\n",
    "p"
   ]
  },
  {
   "cell_type": "markdown",
   "metadata": {},
   "source": [
    "**For else**"
   ]
  },
  {
   "cell_type": "code",
   "execution_count": 16,
   "metadata": {},
   "outputs": [
    {
     "name": "stdout",
     "output_type": "stream",
     "text": [
      "loop complete with k=16 i=76\n"
     ]
    }
   ],
   "source": [
    "# can help us to check how a loop finished (if for loop broke)\n",
    "\n",
    "k=0\n",
    "for i in range(100):\n",
    "    if k>15:\n",
    "        break # takes us out of the statement \n",
    "    if i%5==0:\n",
    "        k+=1\n",
    "else: #executed when go to last range without breaking out of loop \n",
    "    print(\"i went all the way up to %d\"%i) #only runs if loop completed\n",
    "print(\"loop complete with k=%d i=%d\"%(k,i))"
   ]
  },
  {
   "cell_type": "code",
   "execution_count": 17,
   "metadata": {},
   "outputs": [
    {
     "name": "stdout",
     "output_type": "stream",
     "text": [
      "i went all the way up to 99\n",
      "loop complete with k=4 i=99\n"
     ]
    }
   ],
   "source": [
    "k=0\n",
    "for i in range(100):\n",
    "    if k>15:\n",
    "        break\n",
    "    if i%25==0:\n",
    "        k+=1\n",
    "else:\n",
    "    print(\"i went all the way up to %d\"%i) #only runs if loop completed\n",
    "print(\"loop complete with k=%d i=%d\"%(k,i))"
   ]
  },
  {
   "cell_type": "markdown",
   "metadata": {},
   "source": [
    "**While, break, etc.**\n",
    "\n",
    "* Sieve of Eratosthenes to find prime numbers up to a certain values\n",
    "    - initialise the list of primes with all integers\n",
    "    - go through list of divisor\n",
    "    - cross all candidates divisible by divisors \n",
    "    - go until upper bound "
   ]
  },
  {
   "cell_type": "code",
   "execution_count": 18,
   "metadata": {},
   "outputs": [
    {
     "name": "stdout",
     "output_type": "stream",
     "text": [
      "divisor 2: [1, 2, 3, 5, 7, 9, 11, 13, 15, 17, 19, 21, 23]\n",
      "divisor 3: [1, 2, 3, 5, 7, 11, 13, 17, 19, 23]\n",
      "divisor 5: [1, 2, 3, 5, 7, 11, 13, 17, 19, 23]\n",
      "divisor 7: [1, 2, 3, 5, 7, 11, 13, 17, 19, 23]\n",
      "divisor 11: [1, 2, 3, 5, 7, 11, 13, 17, 19, 23]\n",
      "divisor 13: [1, 2, 3, 5, 7, 11, 13, 17, 19, 23]\n",
      "divisor 17: [1, 2, 3, 5, 7, 11, 13, 17, 19, 23]\n",
      "divisor 19: [1, 2, 3, 5, 7, 11, 13, 17, 19, 23]\n",
      "divisor 23: [1, 2, 3, 5, 7, 11, 13, 17, 19, 23]\n",
      "Primes up to 23 are: [1, 2, 3, 5, 7, 11, 13, 17, 19, 23]\n"
     ]
    }
   ],
   "source": [
    "upper = 23\n",
    "primes = list(range(1, upper+1)) # + 1 allows upper bound to be included\n",
    "divisor = 1 # initially\n",
    "while True:\n",
    "    divisor+=1\n",
    "    if divisor>upper:\n",
    "        break\n",
    "    if not divisor in primes:\n",
    "        continue \n",
    "    i=0\n",
    "    while i<len(primes): # length changes based on numbers being removed \n",
    "        if primes[i] != divisor and primes[i]%divisor==0: # if the element is not equal to divisor, but it divisible by \n",
    "            # divisor\n",
    "            primes.remove(primes[i]) # list shortened, and there is a new index for each element \n",
    "        else:\n",
    "            i+=1\n",
    "    print(\"divisor %d:\" % divisor, primes) # all numbers not divisible by divisor\n",
    "print(\"Primes up to %d are:\" % upper, primes)"
   ]
  },
  {
   "cell_type": "markdown",
   "metadata": {},
   "source": [
    "After the first divisor, we can see that 3 is still in the list; therefore condition two (if not) is not satisfied, so we go to the third loop\n",
    "\n",
    "* algorithm works for large numbers too (upper)"
   ]
  },
  {
   "cell_type": "code",
   "execution_count": 22,
   "metadata": {},
   "outputs": [
    {
     "name": "stdout",
     "output_type": "stream",
     "text": [
      "Primes up to 2500 are: [1, 2, 3, 5, 7, 11, 13, 17, 19, 23, 29, 31, 37, 41, 43, 47, 53, 59, 61, 67, 71, 73, 79, 83, 89, 97, 101, 103, 107, 109, 113, 127, 131, 137, 139, 149, 151, 157, 163, 167, 173, 179, 181, 191, 193, 197, 199, 211, 223, 227, 229, 233, 239, 241, 251, 257, 263, 269, 271, 277, 281, 283, 293, 307, 311, 313, 317, 331, 337, 347, 349, 353, 359, 367, 373, 379, 383, 389, 397, 401, 409, 419, 421, 431, 433, 439, 443, 449, 457, 461, 463, 467, 479, 487, 491, 499, 503, 509, 521, 523, 541, 547, 557, 563, 569, 571, 577, 587, 593, 599, 601, 607, 613, 617, 619, 631, 641, 643, 647, 653, 659, 661, 673, 677, 683, 691, 701, 709, 719, 727, 733, 739, 743, 751, 757, 761, 769, 773, 787, 797, 809, 811, 821, 823, 827, 829, 839, 853, 857, 859, 863, 877, 881, 883, 887, 907, 911, 919, 929, 937, 941, 947, 953, 967, 971, 977, 983, 991, 997, 1009, 1013, 1019, 1021, 1031, 1033, 1039, 1049, 1051, 1061, 1063, 1069, 1087, 1091, 1093, 1097, 1103, 1109, 1117, 1123, 1129, 1151, 1153, 1163, 1171, 1181, 1187, 1193, 1201, 1213, 1217, 1223, 1229, 1231, 1237, 1249, 1259, 1277, 1279, 1283, 1289, 1291, 1297, 1301, 1303, 1307, 1319, 1321, 1327, 1361, 1367, 1373, 1381, 1399, 1409, 1423, 1427, 1429, 1433, 1439, 1447, 1451, 1453, 1459, 1471, 1481, 1483, 1487, 1489, 1493, 1499, 1511, 1523, 1531, 1543, 1549, 1553, 1559, 1567, 1571, 1579, 1583, 1597, 1601, 1607, 1609, 1613, 1619, 1621, 1627, 1637, 1657, 1663, 1667, 1669, 1693, 1697, 1699, 1709, 1721, 1723, 1733, 1741, 1747, 1753, 1759, 1777, 1783, 1787, 1789, 1801, 1811, 1823, 1831, 1847, 1861, 1867, 1871, 1873, 1877, 1879, 1889, 1901, 1907, 1913, 1931, 1933, 1949, 1951, 1973, 1979, 1987, 1993, 1997, 1999, 2003, 2011, 2017, 2027, 2029, 2039, 2053, 2063, 2069, 2081, 2083, 2087, 2089, 2099, 2111, 2113, 2129, 2131, 2137, 2141, 2143, 2153, 2161, 2179, 2203, 2207, 2213, 2221, 2237, 2239, 2243, 2251, 2267, 2269, 2273, 2281, 2287, 2293, 2297, 2309, 2311, 2333, 2339, 2341, 2347, 2351, 2357, 2371, 2377, 2381, 2383, 2389, 2393, 2399, 2411, 2417, 2423, 2437, 2441, 2447, 2459, 2467, 2473, 2477]\n"
     ]
    }
   ],
   "source": [
    "upper = 2500\n",
    "primes = list(range(1,upper+1))  \n",
    "divisor = 1  \n",
    "while True:\n",
    "    divisor+=1  \n",
    "    if divisor>upper:  \n",
    "        break\n",
    "    if not divisor in primes:\n",
    "        continue \n",
    "    i=0\n",
    "    while i<len(primes):\n",
    "        if primes[i]!=divisor and primes[i]%divisor==0:\n",
    "            primes.remove(primes[i])  \n",
    "        else:\n",
    "            i+=1 \n",
    "   #print(\"divisor %d:\"%divisor,primes)\n",
    "print(\"Primes up to %d are:\" % upper,primes)"
   ]
  },
  {
   "cell_type": "markdown",
   "metadata": {},
   "source": [
    "**User-defined functions**\n",
    "\n",
    "* Takes in inputs for an output\n",
    "* To avoid repetition in the code\n",
    "* Docstring: first few lines in the function that explains what it does "
   ]
  },
  {
   "cell_type": "code",
   "execution_count": 24,
   "metadata": {},
   "outputs": [
    {
     "name": "stdout",
     "output_type": "stream",
     "text": [
      "0.0\n",
      "Help on function my_function in module __main__:\n",
      "\n",
      "my_function()\n",
      "    This is docstring for my function which explains what the function does:\n",
      "    This function simply returns zero\n",
      "\n"
     ]
    }
   ],
   "source": [
    "def my_function(): # takes not input arguments \n",
    "    '''This is docstring for my function which explains what the function does:\n",
    "       This function simply returns zero\n",
    "    '''\n",
    "    return 0.0\n",
    "\n",
    "# call from the main program\n",
    "x=my_function() # brackets to know that we are calling the function\n",
    "print(x)\n",
    "\n",
    "# see docs\n",
    "help(my_function)"
   ]
  },
  {
   "cell_type": "markdown",
   "metadata": {},
   "source": [
    "Inputs arguments \n",
    "\n",
    "* Named arguments\n",
    "* Positional arguments \n",
    "\n",
    "- c is a default value"
   ]
  },
  {
   "cell_type": "code",
   "execution_count": 26,
   "metadata": {},
   "outputs": [
    {
     "name": "stdout",
     "output_type": "stream",
     "text": [
      "[0, 'test', 5]\n",
      "['one', 'two', 3]\n"
     ]
    }
   ],
   "source": [
    "def my_function(a,b,c = 5):\n",
    "    '''Build a list from three input arguments'''\n",
    "    return [a,b,c]\n",
    "\n",
    "# call from the main program\n",
    "x=my_function(0,\"test\") # return value x; 0, 'test' assigns positionally to the input in the definition\n",
    "print(x)\n",
    "y=my_function(a=\"one\", c=3, b=\"two\") # named arguments to call function (order does not matter)name the value of each input \n",
    "print(y)"
   ]
  },
  {
   "cell_type": "markdown",
   "metadata": {},
   "source": [
    "Variable scope\n",
    "\n",
    "* nested functions --- heirarchy of spaces where variable exist "
   ]
  },
  {
   "cell_type": "code",
   "execution_count": 27,
   "metadata": {},
   "outputs": [
    {
     "name": "stdout",
     "output_type": "stream",
     "text": [
      "my_function variables are:\n",
      "    a=10 \n",
      "    b=2 \n",
      "    my_nested_function=<function my_function.<locals>.my_nested_function at 0x000001E9A67EBAF8> \n",
      "my_nested_function variables:\n",
      "    c=10 \n",
      "    d=2 \n",
      "The output from my function is  240\n"
     ]
    }
   ],
   "source": [
    "def my_function(a, b):\n",
    "\n",
    "    def my_nested_function(c, d):\n",
    "        print(\"my_nested_function variables:\")    # printing all variables in the scope of the function\n",
    "        for symbol, value in locals().items():    # printing all variables in the scope of the function\n",
    "            print (\"    %s=%r \"%(symbol,value))   # printing all variables in the scope of the function\n",
    "        return c + d\n",
    "\n",
    "    print(\"my_function variables are:\")           # printing all variables in the scope of the function\n",
    "    for symbol, value in locals().items():        # printing all variables in the scope of the function\n",
    "        print (\"    %s=%r \"%(symbol,value))       # printing all variables in the scope of the function\n",
    "\n",
    "    x = a * b * my_nested_function(a,b)\n",
    "    return x\n",
    "\n",
    "# call from the main program\n",
    "x=10\n",
    "y=2\n",
    "print('The output from my function is ',my_function(x,y))"
   ]
  },
  {
   "cell_type": "markdown",
   "metadata": {},
   "source": [
    "Lambda functions \n",
    "\n",
    "* short way to define simple function; useful for larger constructs "
   ]
  },
  {
   "cell_type": "code",
   "execution_count": 29,
   "metadata": {},
   "outputs": [
    {
     "name": "stdout",
     "output_type": "stream",
     "text": [
      "27\n"
     ]
    }
   ],
   "source": [
    "y = lambda x: x**3\n",
    "print(y(3))"
   ]
  },
  {
   "cell_type": "markdown",
   "metadata": {},
   "source": [
    "**User-defined function: memory usage**"
   ]
  },
  {
   "cell_type": "code",
   "execution_count": 30,
   "metadata": {},
   "outputs": [],
   "source": [
    "def my_plot(d):\n",
    "    '''Makes a nice plot using passed data'''\n",
    "    import matplotlib.pyplot as plt\n",
    "    plt.plot(d[\"x\"],d[\"y\"]) # x and y data (input)\n",
    "    plt.axis([min(d[\"x\"]),max(d[\"x\"]),0,max(d[\"y\"])+1])\n",
    "    plt.ylabel('size in memory, bytes')\n",
    "    plt.xlabel('steps of variable update')\n",
    "    plt.show()"
   ]
  },
  {
   "cell_type": "code",
   "execution_count": 31,
   "metadata": {},
   "outputs": [],
   "source": [
    "import sys\n",
    "def memory_usage(var,grow,steps=10): # variable, function, steps\n",
    "    '''Returns data on memory usage when var is grown using supplied function for given number of steps'''\n",
    "    d={\"x\":[],\"y\":[],\"v\":[]} # dictionary for x, y data, and values\n",
    "    for i in range(steps):\n",
    "        var=grow(var) # next value\n",
    "        d[\"v\"].append(var)\n",
    "        d[\"x\"].append(i+1) # start with step 1 rather than 0\n",
    "        d[\"y\"].append(sys.getsizeof(var))\n",
    "    return d"
   ]
  },
  {
   "cell_type": "code",
   "execution_count": 38,
   "metadata": {},
   "outputs": [
    {
     "name": "stdout",
     "output_type": "stream",
     "text": [
      "Last value: ['****************************************************************', '********************************************************************************************************************************', '****************************************************************************************************************************************************************************************************************************************************************', '********************************************************************************************************************************************************************************************************************************************************************************************************************************************************************************************************************************************************************************************************************************', '****************************************************************************************************************************************************************************************************************************************************************************************************************************************************************************************************************************************************************************************************************************************************************************************************************************************************************************************************************************************************************************************************************************************************************************************************************************************************************************************************************************************************************']\n"
     ]
    },
    {
     "data": {
      "image/png": "[encoded data removed]",
      "text/plain": [
       "<Figure size 432x288 with 1 Axes>"
      ]
     },
     "metadata": {
      "needs_background": "light"
     },
     "output_type": "display_data"
    }
   ],
   "source": [
    "#d=memory_usage(var='*',grow=lambda x: x+\"*\",steps=10)#need to pass a function to memory routine; in place definition is easy\n",
    "d=memory_usage(var='*',grow=lambda x: x*2,steps=10)\n",
    "#d=memory_usage(var=1,grow=lambda x: x*2,steps=200)\n",
    "#d=memory_usage(var=1e249,grow=lambda x: x*2,steps=200) # 1e249 is a float - floats bound to same amount of memory (can run out of space)\n",
    "print(\"Last value: %r\"%d[\"v\"][-5:])\n",
    "my_plot(d)"
   ]
  },
  {
   "cell_type": "markdown",
   "metadata": {},
   "source": [
    "## Two simple examples"
   ]
  },
  {
   "cell_type": "markdown",
   "metadata": {},
   "source": [
    "1. Code up a function to convert (*i, j*) index in a two-dimensional array into a single index *k* which swipes the matrix by column.\n",
    "    - array indexed by i (vertical axis: 1-m) and j (1-n)\n",
    "2. Code the inverse of this function. "
   ]
  },
  {
   "cell_type": "code",
   "execution_count": 44,
   "metadata": {},
   "outputs": [],
   "source": [
    "def k(i, j, m): \n",
    "    '''Converts (i, j) into single k by column\n",
    "    \n",
    "    m is the number of rows in the array\n",
    "    \n",
    "    So k gives the index in the matrix (which is now a vector) when the columns are stacked on top of each other\n",
    "    '''\n",
    "    \n",
    "    return m * (j - 1) + i # j - 1 columns have passed \n",
    "\n",
    "def ik(k, m):\n",
    "    '''Inverse of k(i, j, m)'''\n",
    "    \n",
    "    j = k//m + 1 # integer division: //; add 1 because (because of integer we don't take the integer division to be \n",
    "    # equal to zero; so we add on if we are in the first column)\n",
    "    \n",
    "    i = k%m\n",
    "    \n",
    "    return i,j # which creates a tuple "
   ]
  },
  {
   "cell_type": "code",
   "execution_count": 46,
   "metadata": {},
   "outputs": [
    {
     "name": "stdout",
     "output_type": "stream",
     "text": [
      "(1, 1) --> 1 --> (1, 1)\n",
      "(1, 2) --> 9 --> (1, 2)\n",
      "(1, 3) --> 17 --> (1, 3)\n",
      "(1, 4) --> 25 --> (1, 4)\n",
      "(1, 5) --> 33 --> (1, 5)\n",
      "(1, 6) --> 41 --> (1, 6)\n",
      "(1, 7) --> 49 --> (1, 7)\n",
      "(1, 8) --> 57 --> (1, 8)\n",
      "(1, 9) --> 65 --> (1, 9)\n",
      "(2, 1) --> 2 --> (2, 1)\n",
      "(2, 2) --> 10 --> (2, 2)\n",
      "(2, 3) --> 18 --> (2, 3)\n",
      "(2, 4) --> 26 --> (2, 4)\n",
      "(2, 5) --> 34 --> (2, 5)\n",
      "(2, 6) --> 42 --> (2, 6)\n",
      "(2, 7) --> 50 --> (2, 7)\n",
      "(2, 8) --> 58 --> (2, 8)\n",
      "(2, 9) --> 66 --> (2, 9)\n",
      "(3, 1) --> 3 --> (3, 1)\n",
      "(3, 2) --> 11 --> (3, 2)\n",
      "(3, 3) --> 19 --> (3, 3)\n",
      "(3, 4) --> 27 --> (3, 4)\n",
      "(3, 5) --> 35 --> (3, 5)\n",
      "(3, 6) --> 43 --> (3, 6)\n",
      "(3, 7) --> 51 --> (3, 7)\n",
      "(3, 8) --> 59 --> (3, 8)\n",
      "(3, 9) --> 67 --> (3, 9)\n",
      "(4, 1) --> 4 --> (4, 1)\n",
      "(4, 2) --> 12 --> (4, 2)\n",
      "(4, 3) --> 20 --> (4, 3)\n",
      "(4, 4) --> 28 --> (4, 4)\n",
      "(4, 5) --> 36 --> (4, 5)\n",
      "(4, 6) --> 44 --> (4, 6)\n",
      "(4, 7) --> 52 --> (4, 7)\n",
      "(4, 8) --> 60 --> (4, 8)\n",
      "(4, 9) --> 68 --> (4, 9)\n",
      "(5, 1) --> 5 --> (5, 1)\n",
      "(5, 2) --> 13 --> (5, 2)\n",
      "(5, 3) --> 21 --> (5, 3)\n",
      "(5, 4) --> 29 --> (5, 4)\n",
      "(5, 5) --> 37 --> (5, 5)\n",
      "(5, 6) --> 45 --> (5, 6)\n",
      "(5, 7) --> 53 --> (5, 7)\n",
      "(5, 8) --> 61 --> (5, 8)\n",
      "(5, 9) --> 69 --> (5, 9)\n",
      "(6, 1) --> 6 --> (6, 1)\n",
      "(6, 2) --> 14 --> (6, 2)\n",
      "(6, 3) --> 22 --> (6, 3)\n",
      "(6, 4) --> 30 --> (6, 4)\n",
      "(6, 5) --> 38 --> (6, 5)\n",
      "(6, 6) --> 46 --> (6, 6)\n",
      "(6, 7) --> 54 --> (6, 7)\n",
      "(6, 8) --> 62 --> (6, 8)\n",
      "(6, 9) --> 70 --> (6, 9)\n",
      "(7, 1) --> 7 --> (7, 1)\n",
      "(7, 2) --> 15 --> (7, 2)\n",
      "(7, 3) --> 23 --> (7, 3)\n",
      "(7, 4) --> 31 --> (7, 4)\n",
      "(7, 5) --> 39 --> (7, 5)\n",
      "(7, 6) --> 47 --> (7, 6)\n",
      "(7, 7) --> 55 --> (7, 7)\n",
      "(7, 8) --> 63 --> (7, 8)\n",
      "(7, 9) --> 71 --> (7, 9)\n"
     ]
    }
   ],
   "source": [
    "m = 8\n",
    "for i in range(1,m): # since range goes from 0 to m, need to add \n",
    "    for j in range(1,10):\n",
    "        k0 = k(i,j,m)\n",
    "        i1, j1 = ik(k0, m)\n",
    "        print('(%d, %d) --> %d --> (%d, %d)' % (i, j, k0, i1, j1)) # the argument following % needs to be a tuple"
   ]
  },
  {
   "cell_type": "markdown",
   "metadata": {},
   "source": [
    "But don't we want to start indexing from 0? Yes, we do. \n",
    "\n",
    "* End at m - 1 rows (because we are beginning with 0 as the index)"
   ]
  },
  {
   "cell_type": "code",
   "execution_count": 53,
   "metadata": {},
   "outputs": [
    {
     "name": "stdout",
     "output_type": "stream",
     "text": [
      "(0, 0) --> 0 --> (0, 0)\n",
      "(0, 1) --> 4 --> (0, 1)\n",
      "(0, 2) --> 8 --> (0, 2)\n",
      "(0, 3) --> 12 --> (0, 3)\n",
      "(0, 4) --> 16 --> (0, 4)\n",
      "(1, 0) --> 1 --> (1, 0)\n",
      "(1, 1) --> 5 --> (1, 1)\n",
      "(1, 2) --> 9 --> (1, 2)\n",
      "(1, 3) --> 13 --> (1, 3)\n",
      "(1, 4) --> 17 --> (1, 4)\n",
      "(2, 0) --> 2 --> (2, 0)\n",
      "(2, 1) --> 6 --> (2, 1)\n",
      "(2, 2) --> 10 --> (2, 2)\n",
      "(2, 3) --> 14 --> (2, 3)\n",
      "(2, 4) --> 18 --> (2, 4)\n",
      "(3, 0) --> 3 --> (3, 0)\n",
      "(3, 1) --> 7 --> (3, 1)\n",
      "(3, 2) --> 11 --> (3, 2)\n",
      "(3, 3) --> 15 --> (3, 3)\n",
      "(3, 4) --> 19 --> (3, 4)\n"
     ]
    }
   ],
   "source": [
    "def kay(i,j,m,base0=True): #should be true by default\n",
    "    if base0:\n",
    "        return m * j + i  # multiply by j because if j=2 then exactly two columns before it (starts at 0)\n",
    "    else:\n",
    "        return m * (j - 1) + i\n",
    "    \n",
    "def ikay(k, m, base0=True):\n",
    "    if base0:\n",
    "        j = k//m\n",
    "        i = k%m\n",
    "    else:\n",
    "        j = k//m + 1\n",
    "        i = k%m\n",
    "    return i, j\n",
    "\n",
    "m = 4\n",
    "for i in range(m): \n",
    "    for j in range(5):\n",
    "        k0 = kay(i,j,m)\n",
    "        i1, j1 = ikay(k0, m)\n",
    "        print('(%d, %d) --> %d --> (%d, %d)' % (i, j, k0, i1, j1)) "
   ]
  },
  {
   "cell_type": "markdown",
   "metadata": {},
   "source": [
    "1. Write a function to convert a decimal number into a number with a given base. \n",
    "    - assert: checks some condition; if not satisfied then it shows error with description given\n",
    "2. Return the result as a string."
   ]
  },
  {
   "cell_type": "code",
   "execution_count": 66,
   "metadata": {},
   "outputs": [
    {
     "data": {
      "text/plain": [
       "''"
      ]
     },
     "execution_count": 66,
     "metadata": {},
     "output_type": "execute_result"
    }
   ],
   "source": [
    "def baseN(x,b=2): #x = value to be converted, b = base (give it default value)\n",
    "    '''Converts x from decimal to base b.\n",
    "    \n",
    "    Returns string.\n",
    "    '''\n",
    "    digits = [str(i) for i in range(10)] + [chr(i) for i in range(97, 123)] # gives letters/ alphabet characters \n",
    "    assert 2<=b<=len(digits), 'Cannot convert to given base, it should be between 0 and %d' % (len(digits))\n",
    "    out = []\n",
    "    \n",
    "    while x>0:\n",
    "        out.append(digits[x%b]) # next digit\n",
    "        x //= b\n",
    "    return ''.join(out[::-1])\n",
    "\n",
    "baseN(0)"
   ]
  },
  {
   "cell_type": "code",
   "execution_count": 67,
   "metadata": {},
   "outputs": [
    {
     "data": {
      "text/plain": [
       "'101'"
      ]
     },
     "execution_count": 67,
     "metadata": {},
     "output_type": "execute_result"
    }
   ],
   "source": [
    "baseN(10,3)"
   ]
  },
  {
   "cell_type": "code",
   "execution_count": 54,
   "metadata": {},
   "outputs": [
    {
     "name": "stdout",
     "output_type": "stream",
     "text": [
      "Help on built-in function chr in module builtins:\n",
      "\n",
      "chr(i, /)\n",
      "    Return a Unicode string of one character with ordinal i; 0 <= i <= 0x10ffff.\n",
      "\n"
     ]
    }
   ],
   "source": [
    "help(chr)"
   ]
  },
  {
   "cell_type": "code",
   "execution_count": null,
   "metadata": {},
   "outputs": [],
   "source": []
  }
 ],
 "metadata": {
  "kernelspec": {
   "display_name": "Python 3",
   "language": "python",
   "name": "python3"
  },
  "language_info": {
   "codemirror_mode": {
    "name": "ipython",
    "version": 3
   },
   "file_extension": ".py",
   "mimetype": "text/x-python",
   "name": "python",
   "nbconvert_exporter": "python",
   "pygments_lexer": "ipython3",
   "version": "3.7.6"
  }
 },
 "nbformat": 4,
 "nbformat_minor": 4
}
