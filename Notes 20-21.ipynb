{
 "cells": [
  {
   "cell_type": "markdown",
   "metadata": {},
   "source": [
    "# Finite Markov Chains\n",
    "\n"
   ]
  },
  {
   "cell_type": "markdown",
   "metadata": {},
   "source": [
    "## Stochastic processes\n",
    "\n",
    "* objects that describe the evolution of random variables over time:\n",
    "    $\\{X_{t}\\}_{t \\in T}$\n",
    "    \n",
    "--\n",
    "\n",
    "* Examples:\n",
    "    - simple random walk\n",
    "    - Weiner process \n",
    "    \n",
    "* Markov process\n",
    "    - the prob. dist. over $X_{t+1}$ depends only on $X_{t}$, and not on any previous values of the process\n",
    "    - 'memoryless'\n",
    "    \n",
    "--\n",
    "\n",
    "* Finite Markov chains \n",
    "    - $X_{t}$ takes values from a finite set S (state space)\n",
    "    - time is discrete\n",
    "    - Markov property is satisfied: $P_{ij}$\n",
    "        * from state i to j\n",
    "        \n",
    "--\n",
    "\n",
    "* transitions between Sunny, Partly Cloudy, and Rainy days \n",
    "* S = $\\{x_{1}, x_{2}, x_{3}\\}$\n",
    "* then get the transition probability matrix $P$ (i is the row, j is the column)\n",
    "    - so element (2, 1) is the probability of transitioning from $x_{2}$ to $x_{1}$\n",
    "    - each row is a prob. dist. (sums to 1, etc.)\n",
    "        * have to move from one state to another\n",
    "    - then it is a stochastic matrix (all elements nonnegative, and rows sum to one)\n",
    "    \n",
    "--\n",
    "\n",
    "Finite Markov chain\n",
    "1. A sequence of random variables $S$ that have the Markov property\n",
    "2. Fully characterised by its transition probability matrix $P$"
   ]
  },
  {
   "cell_type": "markdown",
   "metadata": {},
   "source": [
    "## Simulation of Markov chain \n",
    "\n",
    "1. Draw $X_{0}$ from the *initial distribution* $\\psi$\n",
    "2. At every step, given current state, draw $X_{t+1}$ from the discrete distribution $\\{P_{ik}\\}$, for $k = 1,...,n$"
   ]
  },
  {
   "cell_type": "code",
   "execution_count": 1,
   "metadata": {},
   "outputs": [
    {
     "name": "stdout",
     "output_type": "stream",
     "text": [
      "[[0.5 0.4 0.1]\n",
      " [0.4 0.5 0.1]\n",
      " [0.2 0.2 0.6]]\n",
      "\n",
      "[0.2 0.3 0.5]\n"
     ]
    }
   ],
   "source": [
    "import numpy as np \n",
    "\n",
    "P = np.array([[.5,.4,.1],[.4,.5,.1],[.2,.2,.6]])\n",
    "ψ = np.array([0.2,0.3,0.5])\n",
    "\n",
    "print(P, ψ, sep='\\n\\n')"
   ]
  },
  {
   "cell_type": "code",
   "execution_count": 8,
   "metadata": {},
   "outputs": [],
   "source": [
    "def ddraw(probs):\n",
    "    '''Draws one realisation'''\n",
    "    \n",
    "    probs = np.asarray(probs)\n",
    "    \n",
    "    assert probs.ndim == 1 # check argument is 1D array\n",
    "    \n",
    "    assert np.abs(probs.sum()-1)<1e-10 # need it to be a float (so can't write probs.sum() == 1)\n",
    "    \n",
    "    cdf = np.cumsum(probs) # gives the summed up probabilities\n",
    "    # print(cdf)\n",
    "    \n",
    "    u = np.random.uniform() # u(0,1)\n",
    "    \n",
    "    for i in range(cdf.size): # cycle through number of elements in cdf \n",
    "        if u <= cdf[i]: # if u is small, and below first value in CDF, then return is zero; \n",
    "            # if above 0.1 and below 0.5, then falls into the second interval \n",
    "            return i # we return the index of the interval that the u falls into (since u is uniform: convert u into\n",
    "        # discrete RV that we want)"
   ]
  },
  {
   "cell_type": "code",
   "execution_count": 7,
   "metadata": {},
   "outputs": [
    {
     "name": "stdout",
     "output_type": "stream",
     "text": [
      "[0.1 0.5 1. ]\n"
     ]
    }
   ],
   "source": [
    "ddraw([0.1, 0.4, 0.5])"
   ]
  },
  {
   "cell_type": "code",
   "execution_count": 12,
   "metadata": {},
   "outputs": [
    {
     "name": "stdout",
     "output_type": "stream",
     "text": [
      "[0.2 0.3 0.5]\n",
      "0 - 2\n",
      "1 - 2\n",
      "2 - 0\n",
      "3 - 1\n",
      "4 - 0\n",
      "5 - 0\n",
      "6 - 1\n",
      "7 - 1\n",
      "8 - 2\n",
      "9 - 2\n"
     ]
    }
   ],
   "source": [
    "print(ψ)\n",
    "for i in range(10):\n",
    "    print(i, ddraw(ψ), sep=' - ')\n",
    "\n",
    "# 2 is the most probable in ψ, so we get lots of them "
   ]
  },
  {
   "cell_type": "code",
   "execution_count": 15,
   "metadata": {},
   "outputs": [],
   "source": [
    "def simmc(P, ψ, T = 100):\n",
    "    '''Simulates MC'''\n",
    "    \n",
    "    P = np.asarray(P)\n",
    "    psi = np.asarray(ψ)\n",
    "    \n",
    "    assert np.all(np.abs(P.sum(axis = 1) - 1) < 1e-10) # check that P is a stochastic matrix \n",
    "    # axis = 1 is the top axis (summing by row)\n",
    "    # np.all because np.abs is a vector, so need all boolean values in vector to be true \n",
    "    \n",
    "    m = ψ.size # number of states in the chain\n",
    "    \n",
    "    X = np.empty(T, dtype = 'int')\n",
    "    \n",
    "    X[0] = ddraw(ψ) # initial value is drawn from psi\n",
    "    \n",
    "    for t in range(1, T):\n",
    "        X[t] = ddraw(P[X[t-1],:]) # each time we draw from discrete dist. (which is given by row of P)\n",
    "        #X[t-1] is the specific row (the current state i) that we are in, so ,: gives the rest of that row\n",
    "    return X"
   ]
  },
  {
   "cell_type": "code",
   "execution_count": 16,
   "metadata": {},
   "outputs": [
    {
     "name": "stdout",
     "output_type": "stream",
     "text": [
      "Transition matrix:\n",
      "[[0.5 0.4 0.1]\n",
      " [0.4 0.5 0.1]\n",
      " [0.2 0.2 0.6]]\n",
      "Distribution of initial value:\n",
      "[0.2 0.3 0.5]\n",
      "Simulation:\n",
      "[2 2 0 0 2 1 1 0 0 0 2 2 2 0 2 1 0 0 1 0 1 1 0 1 1 0 0 2 1 1 1 0 1 1 2 2 1\n",
      " 0 0 1 0 1 0 1 1 1 0 1 1 1 1 0 1 2 0 1 1 1 0 0 1 1 1 1 1 0 1 0 1 0 2 0 1 1\n",
      " 1 0 0 1 1 1 1 2 2 2 2 2 2 0 2 2 2 2 0 0 1 1 0 0 0 0]\n",
      "Rainy >> Rainy >> Sunny >> Sunny >> Rainy >> Partly cloudy >> Partly cloudy >> Sunny >> Sunny >> Sunny >> Rainy >> Rainy >> Rainy >> Sunny >> Rainy >> Partly cloudy >> Sunny >> Sunny >> Partly cloudy >> Sunny >> Partly cloudy >> Partly cloudy >> Sunny >> Partly cloudy >> Partly cloudy >> Sunny >> Sunny >> Rainy >> Partly cloudy >> Partly cloudy >> Partly cloudy >> Sunny >> Partly cloudy >> Partly cloudy >> Rainy >> Rainy >> Partly cloudy >> Sunny >> Sunny >> Partly cloudy >> Sunny >> Partly cloudy >> Sunny >> Partly cloudy >> Partly cloudy >> Partly cloudy >> Sunny >> Partly cloudy >> Partly cloudy >> Partly cloudy >> Partly cloudy >> Sunny >> Partly cloudy >> Rainy >> Sunny >> Partly cloudy >> Partly cloudy >> Partly cloudy >> Sunny >> Sunny >> Partly cloudy >> Partly cloudy >> Partly cloudy >> Partly cloudy >> Partly cloudy >> Sunny >> Partly cloudy >> Sunny >> Partly cloudy >> Sunny >> Rainy >> Sunny >> Partly cloudy >> Partly cloudy >> Partly cloudy >> Sunny >> Sunny >> Partly cloudy >> Partly cloudy >> Partly cloudy >> Partly cloudy >> Rainy >> Rainy >> Rainy >> Rainy >> Rainy >> Rainy >> Sunny >> Rainy >> Rainy >> Rainy >> Rainy >> Sunny >> Sunny >> Partly cloudy >> Partly cloudy >> Sunny >> Sunny >> Sunny >> Sunny >> "
     ]
    }
   ],
   "source": [
    "print('Transition matrix:',P,sep='\\n')\n",
    "print('Distribution of initial value:',ψ,sep='\\n')\n",
    "sm = simmc(P,ψ,T=100)\n",
    "print('Simulation:',sm,sep='\\n')\n",
    "weather=['Sunny','Partly cloudy','Rainy']\n",
    "for i in sm:\n",
    "    print(weather[i],end=' >> ')"
   ]
  },
  {
   "cell_type": "markdown",
   "metadata": {},
   "source": [
    "## Marginal distribution\n",
    "\n",
    "What is the distribution of $X_{t+1}$? $X_{t+m}$?\n",
    "\n",
    "* given that we know the distribution of $X_{t}$ to be $\\psi$\n",
    "\n",
    "--\n",
    "\n",
    "Using the law of total probability. For $y \\in S$:\n",
    "\n",
    "$P\\{X_{t+1} = y\\} = \\sum_{x \\in S} P\\{X_{t+1} = y | X_{t} = x\\} \\cdot P\\{X_{t} = x\\}$\n",
    "\n",
    "* i.e. count all the ways that you can get to $y$, and then sum them up \n",
    "\n",
    "In matrix form:\n",
    "\n",
    "$P\\{X_{t+1} = x_{j}\\} = \\sum_{i \\in \\{1,...,n\\}}P_{ij} \\cdot \\psi_{t,i}$\n",
    "\n",
    "* transition prob. matrix $\\cdot$ distribution at time t\n",
    "\n",
    "Then, we have:\n",
    "\n",
    "$\\psi_{t+1} = \\psi_{t} \\cdot P$, where $\\psi$ is a row vector.\n",
    "\n",
    "Repeat this:\n",
    "\n",
    "$\\psi_{t+m} = \\psi_{t} \\cdot P^{m}$. Note, we can take the power of $P$ because it is a square matrix. "
   ]
  },
  {
   "cell_type": "code",
   "execution_count": 18,
   "metadata": {},
   "outputs": [
    {
     "name": "stdout",
     "output_type": "stream",
     "text": [
      "Transition matrix:\n",
      "[[0.5 0.4 0.1]\n",
      " [0.4 0.5 0.1]\n",
      " [0.2 0.2 0.6]]\n",
      "Distribution of initial value:\n",
      "[0.2 0.3 0.5]\n",
      "Distribution in one time period:\n",
      "[0.32 0.33 0.35]\n",
      "Distribution in two time periods:\n",
      "[0.362 0.363 0.275]\n",
      "Distribution in ten time periods:\n",
      "[0.39985352 0.39985352 0.20029297]\n"
     ]
    }
   ],
   "source": [
    "print('Transition matrix:',P,sep='\\n')\n",
    "print('Distribution of initial value:',ψ,sep='\\n')\n",
    "\n",
    "print('Distribution in one time period:',  ψ@P    ,sep='\\n')\n",
    "print('Distribution in two time periods:', ψ@P@P  ,sep='\\n')\n",
    "\n",
    "print('Distribution in ten time periods:', ψ @ np.linalg.matrix_power(P,10) ,sep='\\n') # cannot use ** because it is element\n",
    "# wise)"
   ]
  },
  {
   "cell_type": "markdown",
   "metadata": {},
   "source": [
    "### Multiple step transition probabilities\n",
    "\n",
    "* powers of $P$ give probabilities of transition in multiple steps:\n",
    "\n",
    "$Q = P^{m} \\Rightarrow P\\{X_{t+m} = x_{j}\\} = Q_{ij}$, when $X_{t} = x_{i}$\n",
    "\n",
    "* probability of being in a state (one element of $\\psi$) from the initial distribution at time $t$"
   ]
  },
  {
   "cell_type": "markdown",
   "metadata": {},
   "source": [
    "## Irreducibility and Aperiodicity\n",
    "\n",
    "* two states *i* and *j* are said to **communicate** if there exist positive integers *k* and *l* such that:\n",
    "\n",
    "$P_{ij}^{k} > 0$ and $P_{ji}^{l} > 0$\n",
    "\n",
    "* you can reach either states from the other in some number of steps \n",
    "* MC is **irreducible** if every pair of states communicates \n",
    "* MC is called **periodic** if it cycles in a predictable way, and **aperiodic** otherwise\n",
    "\n",
    "$P = \\begin{pmatrix}\n",
    "0 & 1 & 0\\\\\n",
    "0 & 0 & 1\\\\\n",
    "1 & 0 & 0\n",
    "\\end{pmatrix}$\n",
    "\n",
    "* will go from 1 to 2, 2 to 3 and 3 to 1 --> cycle\n",
    "\n",
    "--\n",
    "\n",
    "* a stochastic matrix is **aperiodic** if the period of every state is 1\n",
    "* the **period** of a state *i*, $x_{i} \\in S$ is the greatest common divisor of the integers *k* such that $P_{ii}^{k} > 0$\n",
    "    - in the example above, the integers for state 1 are 3,6,9 (those are the times when we are in the state), so the period of state 1 is 3"
   ]
  },
  {
   "cell_type": "markdown",
   "metadata": {},
   "source": [
    "## Stationary distributions \n",
    "\n",
    "* or *invariant* is a $\\psi^{*}$ such that:\n",
    "\n",
    "$\\psi^{*} = \\psi^{*} \\cdot P$\n",
    "\n",
    "* follows that $\\psi^{*} = \\psi^{*} \\cdot P^{k}$\n",
    "* if $X_{0}$ has the distribution $\\psi^{*}$, then $X_{t}$ has the same distribution for all $t$."
   ]
  },
  {
   "cell_type": "code",
   "execution_count": 19,
   "metadata": {},
   "outputs": [
    {
     "name": "stdout",
     "output_type": "stream",
     "text": [
      "Transition matrix:\n",
      "[[0.5 0.4 0.1]\n",
      " [0.4 0.5 0.1]\n",
      " [0.2 0.2 0.6]]\n",
      "Distribution of initial value:\n",
      "[0.4 0.4 0.2]\n",
      "Distribution in one time period:\n",
      "[0.4 0.4 0.2]\n",
      "Distribution in two time periods:\n",
      "[0.4 0.4 0.2]\n",
      "Distribution in ten time periods:\n",
      "[0.4 0.4 0.2]\n"
     ]
    }
   ],
   "source": [
    "ψ = np.array([0.4,0.4,0.2])\n",
    "print('Transition matrix:',P,sep='\\n')\n",
    "print('Distribution of initial value:',ψ,sep='\\n')\n",
    "\n",
    "print('Distribution in one time period:',  ψ@P    ,sep='\\n')\n",
    "print('Distribution in two time periods:', ψ@P@P  ,sep='\\n')\n",
    "\n",
    "print('Distribution in ten time periods:', ψ @ np.linalg.matrix_power(P,10) ,sep='\\n')"
   ]
  },
  {
   "cell_type": "markdown",
   "metadata": {},
   "source": [
    "Do stationary distributions always exist?\n",
    "\n",
    "**Theorem**: Every stochastic matrix has at least one stationary distribution. \n",
    "\n",
    "**Proof**: an application of Brouwer's fixed point theorem\n",
    "\n",
    "* $\\psi^{*}$ is a (row matrix) fixed point of the mapping $\\psi \\rightarrow \\psi \\cdot P$\n",
    "\n",
    "Are the stationary distributions unique?\n",
    "\n",
    "**Theorem**: If the stochastic matrix $P$ is both aperiodic and irreducible, then $P$ has exactly one stationary distribution, and for any initial $\\psi_{0}$ it holds that $||\\psi_{0}P^{t} - \\psi^{*}|| \\rightarrow 0$ as $t \\rightarrow \\infty$. The stochastic matrix is called **uniformly ergodic**. \n",
    "\n",
    "* a sufficient condition for aperiodicity and irreducibility is that all elements of $P$ are positive. "
   ]
  },
  {
   "cell_type": "markdown",
   "metadata": {},
   "source": [
    "### Convergence to stationarity \n",
    "\n",
    "Algorithm: start from arbitrary $\\psi_{0}$, and compute $\\psi_{t} = \\psi_{t-1} \\cdot P$ until the distributions are indistinguishable (under the above conditions (that the stochastic matrix is uniformly ergodic, the convergence is towards the stationary distribution)\n",
    "* this uses the second part of the above theorem"
   ]
  },
  {
   "cell_type": "code",
   "execution_count": 20,
   "metadata": {},
   "outputs": [
    {
     "name": "stdout",
     "output_type": "stream",
     "text": [
      "Transition matrix:\n",
      "[[0.5 0.4 0.1]\n",
      " [0.4 0.5 0.1]\n",
      " [0.2 0.2 0.6]]\n",
      "after step  1 the distribution is array([0.5, 0.4, 0.1])\n",
      "after step  2 the distribution is array([0.43, 0.42, 0.15])\n",
      "after step  3 the distribution is array([0.413, 0.412, 0.175])\n",
      "after step  4 the distribution is array([0.4063, 0.4062, 0.1875])\n",
      "after step  5 the distribution is array([0.40313, 0.40312, 0.19375])\n",
      "after step  6 the distribution is array([0.401563, 0.401562, 0.196875])\n",
      "after step  7 the distribution is array([0.4007813, 0.4007812, 0.1984375])\n",
      "after step  8 the distribution is array([0.40039063, 0.40039062, 0.19921875])\n",
      "after step  9 the distribution is array([0.40019531, 0.40019531, 0.19960938])\n",
      "after step 10 the distribution is array([0.40009766, 0.40009766, 0.19980469])\n",
      "after step 11 the distribution is array([0.40004883, 0.40004883, 0.19990234])\n",
      "after step 12 the distribution is array([0.40002441, 0.40002441, 0.19995117])\n",
      "after step 13 the distribution is array([0.40001221, 0.40001221, 0.19997559])\n",
      "after step 14 the distribution is array([0.4000061 , 0.4000061 , 0.19998779])\n",
      "after step 15 the distribution is array([0.40000305, 0.40000305, 0.1999939 ])\n",
      "after step 16 the distribution is array([0.40000153, 0.40000153, 0.19999695])\n",
      "after step 17 the distribution is array([0.40000076, 0.40000076, 0.19999847])\n",
      "after step 18 the distribution is array([0.40000038, 0.40000038, 0.19999924])\n",
      "after step 19 the distribution is array([0.40000019, 0.40000019, 0.19999962])\n",
      "after step 20 the distribution is array([0.4000001 , 0.4000001 , 0.19999981])\n",
      "after step 21 the distribution is array([0.40000005, 0.40000005, 0.1999999 ])\n",
      "after step 22 the distribution is array([0.40000002, 0.40000002, 0.19999995])\n",
      "after step 23 the distribution is array([0.40000001, 0.40000001, 0.19999998])\n",
      "after step 24 the distribution is array([0.40000001, 0.40000001, 0.19999999])\n",
      "after step 25 the distribution is array([0.4       , 0.4       , 0.19999999])\n",
      "after step 26 the distribution is array([0.4, 0.4, 0.2])\n",
      "after step 27 the distribution is array([0.4, 0.4, 0.2])\n",
      "after step 28 the distribution is array([0.4, 0.4, 0.2])\n",
      "after step 29 the distribution is array([0.4, 0.4, 0.2])\n",
      "after step 30 the distribution is array([0.4, 0.4, 0.2])\n",
      "after step 31 the distribution is array([0.4, 0.4, 0.2])\n",
      "after step 32 the distribution is array([0.4, 0.4, 0.2])\n",
      "after step 33 the distribution is array([0.4, 0.4, 0.2])\n",
      "after step 34 the distribution is array([0.4, 0.4, 0.2])\n",
      "after step 35 the distribution is array([0.4, 0.4, 0.2])\n",
      "after step 36 the distribution is array([0.4, 0.4, 0.2])\n",
      "after step 37 the distribution is array([0.4, 0.4, 0.2])\n",
      "after step 38 the distribution is array([0.4, 0.4, 0.2])\n",
      "after step 39 the distribution is array([0.4, 0.4, 0.2])\n",
      "after step 40 the distribution is array([0.4, 0.4, 0.2])\n",
      "after step 41 the distribution is array([0.4, 0.4, 0.2])\n",
      "after step 42 the distribution is array([0.4, 0.4, 0.2])\n",
      "after step 43 the distribution is array([0.4, 0.4, 0.2])\n",
      "after step 44 the distribution is array([0.4, 0.4, 0.2])\n",
      "after step 45 the distribution is array([0.4, 0.4, 0.2])\n",
      "after step 46 the distribution is array([0.4, 0.4, 0.2])\n",
      "after step 47 the distribution is array([0.4, 0.4, 0.2])\n",
      "after step 48 the distribution is array([0.4, 0.4, 0.2])\n",
      "after step 49 the distribution is array([0.4, 0.4, 0.2])\n",
      "after step 50 the distribution is array([0.4, 0.4, 0.2])\n"
     ]
    }
   ],
   "source": [
    "ψ = np.array([1,0,0])\n",
    "print('Transition matrix:',P,sep='\\n')\n",
    "\n",
    "for t in range(50):\n",
    "    ψ = ψ @ P\n",
    "    print('after step %2d the distribution is %r'%(t+1,ψ))"
   ]
  },
  {
   "cell_type": "markdown",
   "metadata": {},
   "source": [
    "## Ergodicity\n",
    "\n",
    "Under irreducibility it also holds that:\n",
    "\n",
    "$ \\frac{1}{T}\\sum_{t=1}^{T}\\mathbf{1}\\{X_{t} = x_{j}\\} \\rightarrow \\psi_{j}^{*}$ as $T \\rightarrow \\infty$\n",
    "\n",
    "* the average time/ number of periods that the MC spends at $x_{j}$ converges to element of stationary distribution \n",
    "* convergence is with probability one\n",
    "* does not depend on $\\psi_{0}$\n",
    "    - application of LLN"
   ]
  },
  {
   "cell_type": "markdown",
   "metadata": {},
   "source": [
    "# Computing the stationary distribution of a Markov chain \n",
    "\n",
    "* assume $P$ is aperiodic and irreducible $\\rightarrow$ there exists a unique $\\psi^{*}$. "
   ]
  },
  {
   "cell_type": "markdown",
   "metadata": {},
   "source": [
    "## Method 1: Successive approximations \n",
    "* iterate until successive $\\psi$'s are indistinguishable "
   ]
  },
  {
   "cell_type": "code",
   "execution_count": 21,
   "metadata": {},
   "outputs": [
    {
     "name": "stdout",
     "output_type": "stream",
     "text": [
      "[[0.5 0.3 0.2]\n",
      " [0.5 0.4 0.1]\n",
      " [0.1 0.1 0.8]]\n",
      "\n",
      "[1 0 0]\n"
     ]
    }
   ],
   "source": [
    "import numpy as np\n",
    "\n",
    "P = np.array([[.5,.3,.2],[.5,.4,.1],[.1,.1,.8]])\n",
    "ψ = np.array([1,0,0])\n",
    "\n",
    "print(P, ψ, sep='\\n\\n')"
   ]
  },
  {
   "cell_type": "code",
   "execution_count": 25,
   "metadata": {},
   "outputs": [
    {
     "name": "stdout",
     "output_type": "stream",
     "text": [
      "iter = 0 current psi = array([0.5, 0.3, 0.2])\n",
      "iter = 1 current psi = array([0.42, 0.29, 0.29])\n",
      "iter = 2 current psi = array([0.384, 0.271, 0.345])\n",
      "iter = 3 current psi = array([0.362 , 0.2581, 0.3799])\n",
      "iter = 4 current psi = array([0.34804, 0.24983, 0.40213])\n",
      "iter = 5 current psi = array([0.339148, 0.244557, 0.416295])\n",
      "iter = 6 current psi = array([0.333482 , 0.2411967, 0.4253213])\n",
      "iter = 7 current psi = array([0.32987148, 0.23905541, 0.43107311])\n",
      "iter = 8 current psi = array([0.32757076, 0.23769092, 0.43473833])\n",
      "iter = 9 current psi = array([0.32610467, 0.23682143, 0.4370739 ])\n",
      "iter = 10 current psi = array([0.32517044, 0.23626736, 0.4385622 ])\n",
      "iter = 11 current psi = array([0.32457512, 0.2359143 , 0.43951058])\n",
      "iter = 12 current psi = array([0.32419577, 0.23568931, 0.44011492])\n",
      "iter = 13 current psi = array([0.32395403, 0.23554595, 0.44050002])\n",
      "iter = 14 current psi = array([0.32379999, 0.23545459, 0.44074542])\n",
      "iter = 15 current psi = array([0.32370183, 0.23539638, 0.44090179])\n",
      "iter = 16 current psi = array([0.32363928, 0.23535928, 0.44100144])\n",
      "iter = 17 current psi = array([0.32359943, 0.23533564, 0.44106493])\n",
      "iter = 18 current psi = array([0.32357403, 0.23532058, 0.4411054 ])\n",
      "iter = 19 current psi = array([0.32355784, 0.23531098, 0.44113118])\n",
      "iter = 20 current psi = array([0.32354753, 0.23530486, 0.44114761])\n",
      "iter = 21 current psi = array([0.32354096, 0.23530096, 0.44115808])\n",
      "iter = 22 current psi = array([0.32353677, 0.23529848, 0.44116475])\n",
      "iter = 23 current psi = array([0.3235341, 0.2352969, 0.441169 ])\n",
      "iter = 24 current psi = array([0.3235324 , 0.23529589, 0.44117171])\n",
      "iter = 25 current psi = array([0.32353132, 0.23529525, 0.44117344])\n",
      "iter = 26 current psi = array([0.32353062, 0.23529484, 0.44117454])\n",
      "iter = 27 current psi = array([0.32353018, 0.23529458, 0.44117524])\n",
      "iter = 28 current psi = array([0.3235299 , 0.23529441, 0.44117569])\n",
      "iter = 29 current psi = array([0.32352973, 0.2352943 , 0.44117597])\n",
      "iter = 30 current psi = array([0.32352961, 0.23529424, 0.44117615])\n",
      "iter = 31 current psi = array([0.32352954, 0.23529419, 0.44117627])\n",
      "iter = 32 current psi = array([0.32352949, 0.23529417, 0.44117634])\n",
      "iter = 33 current psi = array([0.32352946, 0.23529415, 0.44117639])\n",
      "iter = 34 current psi = array([0.32352944, 0.23529414, 0.44117642])\n",
      "iter = 35 current psi = array([0.32352943, 0.23529413, 0.44117644])\n",
      "iter = 36 current psi = array([0.32352943, 0.23529413, 0.44117645])\n",
      "iter = 37 current psi = array([0.32352942, 0.23529412, 0.44117646])\n",
      "iter = 38 current psi = array([0.32352942, 0.23529412, 0.44117646])\n",
      "iter = 39 current psi = array([0.32352942, 0.23529412, 0.44117647])\n",
      "iter = 40 current psi = array([0.32352941, 0.23529412, 0.44117647])\n",
      "iter = 41 current psi = array([0.32352941, 0.23529412, 0.44117647])\n",
      "iter = 42 current psi = array([0.32352941, 0.23529412, 0.44117647])\n",
      "iter = 43 current psi = array([0.32352941, 0.23529412, 0.44117647])\n",
      "iter = 44 current psi = array([0.32352941, 0.23529412, 0.44117647])\n",
      "iter = 45 current psi = array([0.32352941, 0.23529412, 0.44117647])\n",
      "iter = 46 current psi = array([0.32352941, 0.23529412, 0.44117647])\n",
      "iter = 47 current psi = array([0.32352941, 0.23529412, 0.44117647])\n",
      "iter = 48 current psi = array([0.32352941, 0.23529412, 0.44117647])\n",
      "iter = 49 current psi = array([0.32352941, 0.23529412, 0.44117647])\n",
      "iter = 50 current psi = array([0.32352941, 0.23529412, 0.44117647])\n",
      "iter = 51 current psi = array([0.32352941, 0.23529412, 0.44117647])\n",
      "iter = 52 current psi = array([0.32352941, 0.23529412, 0.44117647])\n",
      "iter = 53 current psi = array([0.32352941, 0.23529412, 0.44117647])\n",
      "iter = 54 current psi = array([0.32352941, 0.23529412, 0.44117647])\n",
      "iter = 55 current psi = array([0.32352941, 0.23529412, 0.44117647])\n",
      "iter = 56 current psi = array([0.32352941, 0.23529412, 0.44117647])\n",
      "iter = 57 current psi = array([0.32352941, 0.23529412, 0.44117647])\n"
     ]
    },
    {
     "data": {
      "text/plain": [
       "array([0.32352941, 0.23529412, 0.44117647])"
      ]
     },
     "execution_count": 25,
     "metadata": {},
     "output_type": "execute_result"
    }
   ],
   "source": [
    "def stationary_sa(P, psi0, tol=1e-5, maxiter=100, callback=None):\n",
    "    '''Computes stationary $\\psi$. Using Newton Method code'''\n",
    "    \n",
    "    P, psi0 = np.asarray(P), np.asarray(psi0)\n",
    "    \n",
    "    assert abs(psi0.sum() - 1) < 1e-10, 'Initial distribution does not sum to one'\n",
    "    \n",
    "    assert np.all(np.abs(P.sum(axis = 1) - 1) < 1e-10), 'P is not a stochastic matrix'\n",
    "    \n",
    "    for i in range(maxiter):\n",
    "        psi = psi0 @ P\n",
    "        err = np.amax(np.abs(psi - psi0)) # amax compares the elements along one array; max does it along two arrays \n",
    "        if callback != None: callback(err = err, psi = psi, psi0 = psi0, iter = i)\n",
    "        if err < tol: break\n",
    "        psi0 = psi \n",
    "        \n",
    "    else:\n",
    "        raise RuntimeError('Failed to converge in %d iterations' % maxiter)\n",
    "        \n",
    "    return psi \n",
    "\n",
    "\n",
    "def printiter(**kwarg):\n",
    "    print('iter = %d current psi = %r' % (kwarg['iter'], kwarg['psi']))\n",
    "\n",
    "stationary_sa(P, ψ, tol = 1e-12, callback = printiter)"
   ]
  },
  {
   "cell_type": "markdown",
   "metadata": {},
   "source": [
    "## Method 2: Direct solution with linear solver \n",
    "\n",
    "We have $\\psi^{*} = \\psi^{*} \\cdot P$. Then:\n",
    "\n",
    "$\\psi^{*}(I - P) = 0$\n",
    "\n",
    "$(I - P')\\tilde{\\psi}^{*} = 0$\n",
    "\n",
    "where $\\tilde{\\psi}^{*}$ is now a column vector. Then use np.linalg.solver. This is a direct solver.  "
   ]
  },
  {
   "cell_type": "code",
   "execution_count": 26,
   "metadata": {},
   "outputs": [
    {
     "name": "stdout",
     "output_type": "stream",
     "text": [
      "[ 0. -0. -0.]\n"
     ]
    }
   ],
   "source": [
    "m = P.shape[0]\n",
    "\n",
    "A = np.eye(m) - P.T\n",
    "\n",
    "print(np.linalg.solve(A, np.zeros(m)))\n",
    "\n",
    "# note, a column of zeros also solves this equation (we have a rank problem)\n",
    "# the sum of the resulting vector should be one "
   ]
  },
  {
   "cell_type": "markdown",
   "metadata": {},
   "source": [
    "### Include the linear constant into the system itself\n",
    "\n",
    "* let *e* be the column vector of appropriate length with all elements equal to 1\n",
    "\n",
    "The system is:\n",
    "\n",
    "$\\begin{pmatrix}\n",
    "I - P' & e \\\\\n",
    "e' & 1\n",
    "\\end{pmatrix}\n",
    "\\cdot\n",
    "\\begin{pmatrix}\n",
    "\\psi \\\\\n",
    "\\epsilon\n",
    "\\end{pmatrix}\n",
    "=\n",
    "\\begin{pmatrix}\n",
    "e \\\\\n",
    "2 \n",
    "\\end{pmatrix}\n",
    "$\n",
    "\n",
    "Add one row and one column to the matrix (and a constant). Then $\\epsilon = 2 - \\psi = 1$ (since the elements of $\\psi = 1$)"
   ]
  },
  {
   "cell_type": "code",
   "execution_count": 31,
   "metadata": {},
   "outputs": [],
   "source": [
    "def stationary_linalg(P, psi0 = None):\n",
    "    \n",
    "    P, psi0 = np.asarray(P), np.asarray(psi0)\n",
    "    \n",
    "    assert abs(psi0.sum() - 1) < 1e-10, 'Initial distribution does not sum to one'\n",
    "    \n",
    "    assert np.all(np.abs(P.sum(axis = 1) - 1) < 1e-10), 'P is not a stochastic matrix'\n",
    "    \n",
    "    m = P.shape[0]\n",
    "    \n",
    "    A = np.ones((m + 1, m + 1))\n",
    "    \n",
    "    A[:-1, :-1] = np.eye(m) - P.T\n",
    "    \n",
    "    b = np.ones(m + 1)\n",
    "    \n",
    "    b[-1] = 2\n",
    "    \n",
    "    res = np.linalg.solve(A, b)\n",
    "    \n",
    "    return res[:-1]   "
   ]
  },
  {
   "cell_type": "code",
   "execution_count": 34,
   "metadata": {},
   "outputs": [
    {
     "data": {
      "text/plain": [
       "array([0.20454545, 0.11363636, 0.68181818])"
      ]
     },
     "execution_count": 34,
     "metadata": {},
     "output_type": "execute_result"
    }
   ],
   "source": [
    "stationary_linalg(P, ψ)"
   ]
  },
  {
   "cell_type": "code",
   "execution_count": 33,
   "metadata": {},
   "outputs": [],
   "source": [
    "P = np.array([[.5,.0,.5],[.3,.4,.3],[.1,.1,.8]])\n",
    "ψ = np.array([1,0,0])"
   ]
  },
  {
   "cell_type": "code",
   "execution_count": null,
   "metadata": {},
   "outputs": [],
   "source": []
  }
 ],
 "metadata": {
  "kernelspec": {
   "display_name": "Python 3",
   "language": "python",
   "name": "python3"
  },
  "language_info": {
   "codemirror_mode": {
    "name": "ipython",
    "version": 3
   },
   "file_extension": ".py",
   "mimetype": "text/x-python",
   "name": "python",
   "nbconvert_exporter": "python",
   "pygments_lexer": "ipython3",
   "version": "3.7.6"
  }
 },
 "nbformat": 4,
 "nbformat_minor": 4
}
