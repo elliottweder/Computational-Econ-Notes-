{
 "cells": [
  {
   "cell_type": "markdown",
   "metadata": {},
   "source": [
    "# Two simple algorithms: parity and max"
   ]
  },
  {
   "cell_type": "markdown",
   "metadata": {},
   "source": [
    "## Divisibility by number base\n",
    "\n",
    "* to see if a number is divisible by 10, check if ends in a 0\n",
    "* divisible by 2, last digit is 0"
   ]
  },
  {
   "cell_type": "markdown",
   "metadata": {},
   "source": [
    "### Parity of a number algorithm (integers only)\n",
    "\n",
    "1. Convert number to binary\n",
    "2. Check if last digit is zero\n",
    "\n",
    "---\n",
    "\n",
    "* Bitwise operations \n",
    "    - AND &, OR |, XOR ^, NOT ~, >>, <<\n",
    "    - AND: both have to be true (1)\n",
    "    - OR: either is true\n",
    "    - XOR: true if arguments are the same"
   ]
  },
  {
   "cell_type": "code",
   "execution_count": 4,
   "metadata": {},
   "outputs": [
    {
     "name": "stdout",
     "output_type": "stream",
     "text": [
      "  a = 3 (0011)\n",
      "  b = 5 (0101)\n",
      "a&b = 1 (0001)\n",
      "a|b = 7 (0111)\n",
      "a^b = 6 (0110)\n"
     ]
    }
   ],
   "source": [
    "# bitwise logic\n",
    "a,b = 3,5  # 3=0011, 5=0101\n",
    "print('  a = {0:d} ({0:04b})\\n  b = {1:d} ({1:04b})'.format(a,b))\n",
    "print('a&b = {0:d} ({0:04b})'.format(a&b))\n",
    "print('a|b = {0:d} ({0:04b})'.format(a|b))\n",
    "print('a^b = {0:d} ({0:04b})'.format(a^b))"
   ]
  },
  {
   "cell_type": "markdown",
   "metadata": {},
   "source": [
    "* Bit shifts \n",
    "    - arguments are (arithmetic) shifted by one spot \n",
    "    - using <<, >> "
   ]
  },
  {
   "cell_type": "markdown",
   "metadata": {},
   "source": [
    "Can we replace arithmetic operations with bit operations? \n",
    "\n",
    "* Yes"
   ]
  },
  {
   "cell_type": "code",
   "execution_count": 5,
   "metadata": {},
   "outputs": [
    {
     "name": "stdout",
     "output_type": "stream",
     "text": [
      "  a =  227 (0000000011100011)\n",
      "  b =  113 (0000000001110001)\n",
      "\n",
      "  a =  227 (0000000011100011)\n",
      "  b =  908 (0000001110001100)\n",
      "\n"
     ]
    }
   ],
   "source": [
    "# bit shifts\n",
    "a = 0b11100011\n",
    "b = a >> 1\n",
    "print('  a = {0:4d} ({0:016b})\\n  b = {1:4d} ({1:016b})\\n'.format(a,b))\n",
    "b = a << 2\n",
    "print('  a = {0:4d} ({0:016b})\\n  b = {1:4d} ({1:016b})\\n'.format(a,b))"
   ]
  },
  {
   "cell_type": "code",
   "execution_count": 6,
   "metadata": {},
   "outputs": [
    {
     "name": "stdout",
     "output_type": "stream",
     "text": [
      "  a =  227 (0000000011100011)\n",
      "a//2 = 113, a>>1 = 113\n",
      "a//4 = 56, a>>2 = 56\n",
      "a//8 = 28, a>>3 = 28\n",
      "a//16 = 14, a>>4 = 14\n",
      "a//32 = 7, a>>5 = 7\n",
      "a//64 = 3, a>>6 = 3\n",
      "a//128 = 1, a>>7 = 1\n",
      "a//256 = 0, a>>8 = 0\n",
      "a//512 = 0, a>>9 = 0\n"
     ]
    }
   ],
   "source": [
    "# arithmetic operations with bit shifts\n",
    "a = 0b11100011\n",
    "print('  a = {0:4d} ({0:016b})'.format(a))\n",
    "\n",
    "for i in range(1,10):\n",
    "    x = 2**i\n",
    "    d = a//x\n",
    "    s = a>>i\n",
    "    print('a//%d = %d, a>>%d = %d' % (x,d,i,s))"
   ]
  },
  {
   "cell_type": "markdown",
   "metadata": {},
   "source": [
    "* shifting by n bits to the right is the same as dividing by 2^{n} (whichever base is chosen)\n",
    "* shifting by n bits to the left is the same as multiplying"
   ]
  },
  {
   "cell_type": "code",
   "execution_count": 7,
   "metadata": {},
   "outputs": [
    {
     "name": "stdout",
     "output_type": "stream",
     "text": [
      "  a =  227 (0000000011100011)\n",
      "a//2 = 454, a>>1 = 454\n",
      "a//4 = 908, a>>2 = 908\n",
      "a//8 = 1816, a>>3 = 1816\n",
      "a//16 = 3632, a>>4 = 3632\n",
      "a//32 = 7264, a>>5 = 7264\n",
      "a//64 = 14528, a>>6 = 14528\n",
      "a//128 = 29056, a>>7 = 29056\n",
      "a//256 = 58112, a>>8 = 58112\n",
      "a//512 = 116224, a>>9 = 116224\n"
     ]
    }
   ],
   "source": [
    "a = 0b11100011\n",
    "print('  a = {0:4d} ({0:016b})'.format(a))\n",
    "\n",
    "for i in range(1,10):\n",
    "    x = 2**i\n",
    "    d = a*x\n",
    "    s = a<<i\n",
    "    print('a//%d = %d, a>>%d = %d' % (x,d,i,s))"
   ]
  },
  {
   "cell_type": "markdown",
   "metadata": {},
   "source": [
    "## Parity algorithm\n",
    "\n",
    "* Complexity? Only have to check one bit (size of input does not matter)\n",
    "    - the implementation matters \n",
    "    - using AND may check many bits "
   ]
  },
  {
   "cell_type": "code",
   "execution_count": 24,
   "metadata": {},
   "outputs": [
    {
     "name": "stdout",
     "output_type": "stream",
     "text": [
      "  n = 40875 (1001111110101011) --> parity=1\n",
      "1\n"
     ]
    }
   ],
   "source": [
    "def parity(n, verbose=False):\n",
    "    '''Returns 1 if passed integer number is odd'''\n",
    "    assert isinstance(n, int), 'parity() only works for int'\n",
    "    if verbose:\n",
    "        print('  n = {0:4d} ({0:016b}) --> parity={1}'.format(n, parity(n, verbose=False))) \n",
    "    return n & 1  #1 is in decimal for now; true if n & 1 are the same (True implies number is odd)\n",
    "\n",
    "#x = 0b1001011011\n",
    "#print(parity(x)) -- prints none because nothing returned (this is before anything (only pass included))\n",
    "\n",
    "\n",
    "# 4d means take at least four spaces \n",
    "\n",
    "x = 0b1001111110101011\n",
    "print(parity(x,True))\n",
    "\n",
    "# if x is a float number, then & is not defined\n",
    "# use ifinstance than n is an integer"
   ]
  },
  {
   "cell_type": "code",
   "execution_count": 26,
   "metadata": {},
   "outputs": [
    {
     "name": "stdout",
     "output_type": "stream",
     "text": [
      "n =     2 (00000010), parity=0\n",
      "n =     4 (00000100), parity=0\n",
      "n =     7 (00000111), parity=1\n",
      "n =    32 (00100000), parity=0\n",
      "n =   543 (1000011111), parity=1\n",
      "n =   671 (1010011111), parity=1\n",
      "n =   780 (1100001100), parity=0\n"
     ]
    }
   ],
   "source": [
    "for n in [2,4,7,32,543,671,780]:\n",
    "    print('n = {0:5d} ({0:08b}), parity={1}'.format(n,parity(n)))"
   ]
  },
  {
   "cell_type": "markdown",
   "metadata": {},
   "source": [
    "## Finding max/ min in a list \n",
    "\n",
    "* in worst case, no way to avoid checking all elements \n",
    "* complexity is linear in the number of elements of list (order n)"
   ]
  },
  {
   "cell_type": "code",
   "execution_count": 29,
   "metadata": {},
   "outputs": [
    {
     "data": {
      "text/plain": [
       "5"
      ]
     },
     "execution_count": 29,
     "metadata": {},
     "output_type": "execute_result"
    }
   ],
   "source": [
    "import numpy as np\n",
    "\n",
    "def maximum_from_list(vars):\n",
    "    m = -np.Infinity\n",
    "    for x in vars:\n",
    "        if x > m:\n",
    "            m = x # if x > current maximum, then x becomes maximum\n",
    "            \n",
    "    return m\n",
    "\n",
    "maximum_from_list([1,2,5,3])"
   ]
  },
  {
   "cell_type": "code",
   "execution_count": null,
   "metadata": {},
   "outputs": [],
   "source": [
    "def max(vars):\n",
    "    \n",
    "    m = float('inf') # works too "
   ]
  },
  {
   "cell_type": "markdown",
   "metadata": {},
   "source": [
    "* to improve the code:\n",
    "    - convert if to one string "
   ]
  },
  {
   "cell_type": "code",
   "execution_count": 31,
   "metadata": {},
   "outputs": [
    {
     "data": {
      "text/plain": [
       "5"
      ]
     },
     "execution_count": 31,
     "metadata": {},
     "output_type": "execute_result"
    }
   ],
   "source": [
    "def maximum(vars):\n",
    "    m = float('-inf')\n",
    "    for x in vars:\n",
    "        m = x if x > m else m\n",
    "            \n",
    "    return m\n",
    "\n",
    "maximum([1,2,5,3])"
   ]
  },
  {
   "cell_type": "code",
   "execution_count": 32,
   "metadata": {},
   "outputs": [
    {
     "name": "stdout",
     "output_type": "stream",
     "text": [
      "Maximum in [ 6.1872426  28.94507794 26.24063093 30.55722448  6.73120435  2.11235759\n",
      " 92.9659056  29.44920265 35.06748672 43.70853269] is 92.97\n",
      "Maximum in [15.98476607 39.63176928  0.56816448 38.16506505 32.49299613 95.78922086\n",
      " 45.33560703 76.42366621 69.14040617 47.94902966] is 95.79\n",
      "Maximum in [53.84925855 75.42968996 86.34706668 21.21658496 74.45827317 99.98100336\n",
      " 50.62466914 31.6902252  18.51483833 35.73897689] is 99.98\n",
      "Maximum in [69.77390227 49.3318914  86.49920867 75.17180883 27.11180477 62.01895162\n",
      " 47.3176319   9.32339906 99.76365774 61.36430128] is 99.76\n",
      "Maximum in [89.11440451 31.67929718  3.23715835  9.82881424 30.23107694 57.15907513\n",
      " 57.62967723  6.31468137 58.11873344 79.31847455] is 89.11\n"
     ]
    }
   ],
   "source": [
    "for i in range(5):\n",
    "    list = np.random.uniform(low=0.0, high=100.0, size=10)\n",
    "    m = maximum_from_list(list)\n",
    "    print('Maximum in {} is {:.2f}'.format(list,m))"
   ]
  },
  {
   "cell_type": "markdown",
   "metadata": {},
   "source": [
    "# Binary search algorithm"
   ]
  },
  {
   "cell_type": "markdown",
   "metadata": {},
   "source": [
    "Member of divide-and-conquer class of algorithms\n",
    "\n",
    "* divide problem into subproblems \n",
    "* solve subproblems\n",
    "* combine answers to subproblems "
   ]
  },
  {
   "cell_type": "code",
   "execution_count": 66,
   "metadata": {},
   "outputs": [],
   "source": [
    "def sum_list(l):\n",
    "    '''Summing the elements of the list using DAC algorithm'''\n",
    "    \n",
    "    if len(l)==1:\n",
    "        print('Sum of list of one element is {}'.format(l[0]))\n",
    "        return l[0]\n",
    "    \n",
    "    j = len(l)//2 # the middle of the list (integer division)\n",
    "    \n",
    "    print('Dividing {} into {} and {}'.format(l, l[:j], l[j:]))\n",
    "    \n",
    "    \n",
    "    sum = sum_list(l[:j]) + sum_list(l[j:]) # sum of first half and second half of the list \n",
    "    # have to stop the recursion (above line is calling itself over and over again)\n",
    "    # have to return something otherwise 'sum' doesn't work \n",
    "\n",
    "    print('Returning the sum of {} = {}'.format(l,sum))\n",
    "        \n",
    "    return sum"
   ]
  },
  {
   "cell_type": "code",
   "execution_count": 67,
   "metadata": {},
   "outputs": [
    {
     "name": "stdout",
     "output_type": "stream",
     "text": [
      "Dividing [1, 2, 6, 5, 2] into [1, 2] and [6, 5, 2]\n",
      "Dividing [1, 2] into [1] and [2]\n",
      "Sum of list of one element is 1\n",
      "Sum of list of one element is 2\n",
      "Returning the sum of [1, 2] = 3\n",
      "Dividing [6, 5, 2] into [6] and [5, 2]\n",
      "Sum of list of one element is 6\n",
      "Dividing [5, 2] into [5] and [2]\n",
      "Sum of list of one element is 5\n",
      "Sum of list of one element is 2\n",
      "Returning the sum of [5, 2] = 7\n",
      "Returning the sum of [6, 5, 2] = 13\n",
      "Returning the sum of [1, 2, 6, 5, 2] = 16\n",
      "16\n"
     ]
    }
   ],
   "source": [
    "print(sum_list([1,2,6,5,2]))"
   ]
  },
  {
   "cell_type": "code",
   "execution_count": 45,
   "metadata": {},
   "outputs": [],
   "source": [
    "del sun_list"
   ]
  },
  {
   "cell_type": "code",
   "execution_count": 49,
   "metadata": {},
   "outputs": [],
   "source": [
    "del sum_list "
   ]
  },
  {
   "cell_type": "markdown",
   "metadata": {},
   "source": [
    "Best way to sum elements of list? No, but tells us about DAC algorithms. "
   ]
  },
  {
   "cell_type": "markdown",
   "metadata": {},
   "source": [
    "### Complexity of DAC algorithms \n",
    "\n",
    "* dividing into subsections divides the work that is needed \n",
    "    - size of problem is $\\frac{n}{b^{x}}$ \n",
    "    - so $x$ is a Big(O) of $log(n)$\n",
    "    \n",
    "---\n",
    "\n",
    "Typical DAC Algorithms\n",
    "\n",
    "* binary search\n",
    "* quicksort \n",
    "* Fast Fourier transform\n",
    "* Karatsuba fast multiplication\n",
    "\n",
    "--- \n",
    "\n",
    "Binary search\n",
    "\n",
    "* input: sorted list of numbers, and a value to find\n",
    "\n",
    "-- \n",
    "\n",
    "1. Find middle point\n",
    "2. If the sought value if below, reduce the list to the lower half (or above)"
   ]
  },
  {
   "cell_type": "code",
   "execution_count": 8,
   "metadata": {},
   "outputs": [
    {
     "name": "stdout",
     "output_type": "stream",
     "text": [
      "List = [4, 6, 8, 19, 34, 67]\n",
      "Value to find is 67\n",
      "5\n"
     ]
    }
   ],
   "source": [
    "def binary_search(list=[0,1], val=0, verbose=True):\n",
    "    '''Binary search of val in the given list'''\n",
    "    \n",
    "    if verbose:\n",
    "        print('List = {}'.format(list))\n",
    "        print('Value to find is {}'.format(val))\n",
    "        \n",
    "    if val == list[-1]:\n",
    "        return len(list)-1\n",
    "    \n",
    "    i1, i2 = 0, len(list) - 1 # indices (the bounds)\n",
    "    j = (i1 + i2)//2\n",
    "    \n",
    "    \n",
    "    while list[j]!=val:\n",
    "        if list[j] > val:\n",
    "            i2 = j       # go to lower half of list (update i2)\n",
    "        else:\n",
    "            i1 = j\n",
    "        print('Searching between {} and {}'.format(list[i1],list[i2]))\n",
    "        j = (i1 + i2)//2\n",
    "    if verbose:\n",
    "        print('Found {} at index {}'.format(val,j))\n",
    "    return j \n",
    "        \n",
    "print(binary_search([4,6,8,19,34,67],67)) "
   ]
  },
  {
   "cell_type": "markdown",
   "metadata": {},
   "source": [
    "Taken photo at 12:23 13/04/2021 of the code that only works for '4' but not '67'\n",
    "\n",
    "Using integer division; indexes 4 and 5 gives 4 --- so the last bound is not being updated and no convergence [add in the list[-1] appendage]"
   ]
  },
  {
   "cell_type": "code",
   "execution_count": 14,
   "metadata": {},
   "outputs": [
    {
     "name": "stdout",
     "output_type": "stream",
     "text": [
      "List = [ 0  2  3  4  5  6  7  9 10 11 12 13 14 15 16 18 19 20 21 22 23 24 25 27\n",
      " 28 29 30 31 33 34 35 36 38 39 40 41 42 43 44 47 48 50 51 53 54 56 57 58\n",
      " 60 61 62 64 65 67 68 70 71 73 74 75 77 78 79 80 81 82 83 84 86 87 88 89\n",
      " 90 91 92 93 96 97 98 99]\n",
      "Value to find is [93]\n",
      "Searching between 47 and 99\n",
      "Searching between 75 and 99\n",
      "Searching between 87 and 99\n",
      "Searching between 92 and 99\n",
      "Searching between 92 and 96\n",
      "Found [93] at index 75\n",
      "Searched for 93, found x[75]=93\n"
     ]
    }
   ],
   "source": [
    "import numpy as np\n",
    "N = 80\n",
    "# random sorted sequence of integers up to 100\n",
    "x = np.random.choice(100,size=N,replace=False)\n",
    "x = np.sort(x)\n",
    "# random choice of one number/index\n",
    "k0 = np.random.choice(N,size=1)\n",
    "\n",
    "k1 = binary_search(list=x,val=x[k0])\n",
    "print(\"Searched for %d, found x[%d]=%d\"%(x[k0],k1,x[k1]))"
   ]
  },
  {
   "cell_type": "markdown",
   "metadata": {},
   "source": [
    "The number of steps does not increase much with the size of the list. Harks back to the complexity idea. "
   ]
  },
  {
   "cell_type": "markdown",
   "metadata": {},
   "source": [
    "# Enumeration of discrete compositions"
   ]
  },
  {
   "cell_type": "markdown",
   "metadata": {},
   "source": [
    "* share discrete goods with a finite amount of agents "
   ]
  },
  {
   "cell_type": "code",
   "execution_count": null,
   "metadata": {},
   "outputs": [],
   "source": []
  }
 ],
 "metadata": {
  "kernelspec": {
   "display_name": "Python 3",
   "language": "python",
   "name": "python3"
  },
  "language_info": {
   "codemirror_mode": {
    "name": "ipython",
    "version": 3
   },
   "file_extension": ".py",
   "mimetype": "text/x-python",
   "name": "python",
   "nbconvert_exporter": "python",
   "pygments_lexer": "ipython3",
   "version": "3.7.6"
  }
 },
 "nbformat": 4,
 "nbformat_minor": 4
}
