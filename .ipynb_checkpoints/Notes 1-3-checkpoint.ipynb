{
 "cells": [
  {
   "cell_type": "markdown",
   "metadata": {},
   "source": [
    "# Introduction"
   ]
  },
  {
   "cell_type": "markdown",
   "metadata": {},
   "source": [
    "* Solve and simulate complicated economic models that do not allow for analytical solutions\n",
    "* High level language (Python) for overall structure and appearance (to make quicker, use vectorization and parallelization)\n",
    "* Low level language for computational bottlenecks"
   ]
  },
  {
   "cell_type": "markdown",
   "metadata": {},
   "source": [
    "# Setting up Python"
   ]
  },
  {
   "cell_type": "markdown",
   "metadata": {},
   "source": [
    "## Single user Git workflow\n",
    "\n",
    "1. Create/ clone repository\n",
    "2. Write/ edit text files\n",
    "3. Observe diffs (what you have done vs. previously saved versions)\n",
    "4. Stage and commit\n",
    "5. Upload, etc. "
   ]
  },
  {
   "cell_type": "markdown",
   "metadata": {},
   "source": [
    "## Create a repository\n",
    "\n",
    "* Add new repository\n",
    "* ReadME.md --- \"md\" is markdown\n",
    "* To edit ReadME file, click pen on RHS; need to give the update a name\n",
    "* Usually do not commit safely to Master file \n",
    "* To clone repository to local machine -- go to GitHub desktop and can see on RHS and click \"clone\" \n",
    "\n",
    "* 'History' tabs shows the changes that have been made \n",
    "* If want to make changes locally, need to open these changes in a text editor \n",
    "\n",
    "* To make several local changes, open reader and edit\n",
    "\n",
    "* To commit changes locally, go to GitHub desktop and select the changes on the LHS, then give a name and commit to master/ main\n",
    "* Then push changes to the origin using the 'push to origin' button (upload them to online github cloud)\n"
   ]
  },
  {
   "cell_type": "markdown",
   "metadata": {},
   "source": [
    "**Exercise 2**\n",
    "* Cloning course repository:\n",
    "* Find \"Code\" \"Clone\", then clone it to GitHub desktop \n",
    "* Run lecture locally; find it on Jupyter notebook homepage (OneDrive first)\n",
    "\n",
    "* Open cmd \n",
    "* \"cd ADDRESS\"\n",
    "* \"jupyter notebook --notebook-dir =.\"\n",
    "* Starts notebook in the current directory you choose \n",
    "\n",
    "* To make changes, insert new cells, etc. (to take lecture notes)\n",
    "* Changes (once saved) appear in the GitHub desktop as diffs \n",
    "\n"
   ]
  },
  {
   "cell_type": "markdown",
   "metadata": {},
   "source": [
    "# Numbers "
   ]
  },
  {
   "cell_type": "markdown",
   "metadata": {},
   "source": [
    "## Floating point arithmetics\n",
    "\n",
    "* Binary format is needed to represent all numbers \n",
    "* '=' assigns numbers \n",
    "* '==' returns a Boolean \n",
    "\n",
    "* Real numbers are presented with a certain precision -- differences can accumulate \n",
    "* We want numerical stability \n",
    "\n",
    "---\n",
    "\n",
    "- r - real number \n",
    "- b - base \n",
    "- $d_{0}, ..., d_{k}$ - digits \n",
    "- $r = d_{k} b^{k} + ... + d_{q}b + d_{0}$\n",
    "- 7631 = 7 * 1000 + 6 * 100, etc.\n",
    "\n",
    "---\n",
    "\n",
    "For binary:\n",
    "\n",
    "* If b=2, then only have two digits: 0, 1\n",
    "* $101011_{binary} = 1 \\times 2^{5} + 0 \\times 2^{4} + 1 \\times 2^{3}$ , etc. \n",
    "* b = 8 or 16 often too \n",
    "* $1011_{2} = 1 \\times 2^{0} + 2 + 8 = 11$\n",
    "\n",
    "--- \n",
    "\n",
    "Counting in binary:\n",
    "\n",
    "* 1 \n",
    "* 10\n",
    "* 11\n",
    "* 100 \n",
    "\n",
    "In base-b it takes *n* digits to count up to $b^{n} - 1$\n",
    "\n",
    "* for fractions take negative power of the base (the polynomial)\n",
    "* cannot represent some numbers (such as 1.333 recurring)\n",
    "\n",
    "Example:\n",
    "\n",
    "* $1/10 = (1 * 2^{4})/ 10 * 1/2^{4}$\n",
    "* In binary:\n",
    "    - add in $2^4$\n",
    "    - $(16/10) * 2^{-4} = 1 * 2^{-4} + 6/10 * 2^{-4}$ (first part gives 0001)\n",
    "    - $2^{-4} + 12/10 * 2^{-5} = 2^{-4} + 2^{-5} + 2/10 * 2^{-5}$ (00011)\n",
    "    - get $2^{-8}$ (00011001)\n",
    "    - find that pattern continues; so cannot compute 1/10 in binary \n",
    "    \n",
    "---\n",
    "\n",
    "Scientific notation \n",
    "* $r = r_{0} \\times b^{e}$\n",
    "\n",
    "---\n",
    "\n",
    "Rounding error\n",
    "* infinitely many real numbers squeezed into a finite number of bits --- approximate representation (error)\n",
    "* numbers rounded to the nearest representable number/ floating point \n",
    "* loss of precision\n",
    "* should not compare floats for equality \n"
   ]
  }
 ],
 "metadata": {
  "kernelspec": {
   "display_name": "Python 3",
   "language": "python",
   "name": "python3"
  },
  "language_info": {
   "codemirror_mode": {
    "name": "ipython",
    "version": 3
   },
   "file_extension": ".py",
   "mimetype": "text/x-python",
   "name": "python",
   "nbconvert_exporter": "python",
   "pygments_lexer": "ipython3",
   "version": "3.7.6"
  }
 },
 "nbformat": 4,
 "nbformat_minor": 4
}
